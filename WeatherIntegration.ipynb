{
  "nbformat": 4,
  "nbformat_minor": 0,
  "metadata": {
    "colab": {
      "name": "Copy of AseanHackathon_ML.ipynb",
      "provenance": [],
      "collapsed_sections": [],
      "toc_visible": true
    },
    "kernelspec": {
      "name": "python3",
      "display_name": "Python 3"
    }
  },
  "cells": [
    {
      "cell_type": "code",
      "metadata": {
        "id": "yb_driNKNKTM",
        "colab": {
          "base_uri": "https://localhost:8080/"
        },
        "outputId": "cf6e32fe-a557-4be2-9816-267254f11bf5"
      },
      "source": [
        "!pip install meteostat geopandas swifter"
      ],
      "execution_count": 1,
      "outputs": [
        {
          "output_type": "stream",
          "text": [
            "Collecting meteostat\n",
            "  Downloading https://files.pythonhosted.org/packages/5d/a2/bf01b4e176311f2eda94e5d37e2d7d6e17b7a74fc8f3b0cb49a5026e9d28/meteostat-1.0.3.tar.gz\n",
            "Collecting geopandas\n",
            "\u001b[?25l  Downloading https://files.pythonhosted.org/packages/2a/9f/e8a440a993e024c0d3d4e5c7d3346367c50c9a1a3d735caf5ee3bde0aab1/geopandas-0.8.2-py2.py3-none-any.whl (962kB)\n",
            "\u001b[K     |████████████████████████████████| 972kB 5.2MB/s \n",
            "\u001b[?25hCollecting swifter\n",
            "\u001b[?25l  Downloading https://files.pythonhosted.org/packages/f4/3b/04bf42b94a22725241b47e0256458cde11f86f97572dd824e011f1ea8b20/swifter-1.0.7.tar.gz (633kB)\n",
            "\u001b[K     |████████████████████████████████| 634kB 13.8MB/s \n",
            "\u001b[?25hRequirement already satisfied: pandas>=1.1 in /usr/local/lib/python3.6/dist-packages (from meteostat) (1.1.5)\n",
            "Requirement already satisfied: pytz in /usr/local/lib/python3.6/dist-packages (from meteostat) (2018.9)\n",
            "Collecting fiona\n",
            "\u001b[?25l  Downloading https://files.pythonhosted.org/packages/37/94/4910fd55246c1d963727b03885ead6ef1cd3748a465f7b0239ab25dfc9a3/Fiona-1.8.18-cp36-cp36m-manylinux1_x86_64.whl (14.8MB)\n",
            "\u001b[K     |████████████████████████████████| 14.8MB 297kB/s \n",
            "\u001b[?25hCollecting pyproj>=2.2.0\n",
            "\u001b[?25l  Downloading https://files.pythonhosted.org/packages/e4/ab/280e80a67cfc109d15428c0ec56391fc03a65857b7727cf4e6e6f99a4204/pyproj-3.0.0.post1-cp36-cp36m-manylinux2010_x86_64.whl (6.4MB)\n",
            "\u001b[K     |████████████████████████████████| 6.5MB 37.7MB/s \n",
            "\u001b[?25hRequirement already satisfied: shapely in /usr/local/lib/python3.6/dist-packages (from geopandas) (1.7.1)\n",
            "Collecting psutil>=5.6.6\n",
            "\u001b[?25l  Downloading https://files.pythonhosted.org/packages/da/82/56cd16a4c5f53e3e5dd7b2c30d5c803e124f218ebb644ca9c30bc907eadd/psutil-5.8.0-cp36-cp36m-manylinux2010_x86_64.whl (291kB)\n",
            "\u001b[K     |████████████████████████████████| 296kB 41.7MB/s \n",
            "\u001b[?25hRequirement already satisfied: dask[dataframe]>=2.10.0 in /usr/local/lib/python3.6/dist-packages (from swifter) (2.12.0)\n",
            "Requirement already satisfied: tqdm>=4.33.0 in /usr/local/lib/python3.6/dist-packages (from swifter) (4.41.1)\n",
            "Requirement already satisfied: ipywidgets>=7.0.0cloudpickle>=0.2.2 in /usr/local/lib/python3.6/dist-packages (from swifter) (7.6.3)\n",
            "Requirement already satisfied: parso>0.4.0 in /usr/local/lib/python3.6/dist-packages (from swifter) (0.8.1)\n",
            "Requirement already satisfied: bleach>=3.1.1 in /usr/local/lib/python3.6/dist-packages (from swifter) (3.2.3)\n",
            "Collecting modin[ray]>=0.8.1.1\n",
            "\u001b[?25l  Downloading https://files.pythonhosted.org/packages/d0/9d/591b902668ef56fda55723c22cfe15a1986536d6c24cfbf65501ed9cf35e/modin-0.8.3-py3-none-manylinux1_x86_64.whl (564kB)\n",
            "\u001b[K     |████████████████████████████████| 573kB 48.3MB/s \n",
            "\u001b[?25hRequirement already satisfied: python-dateutil>=2.7.3 in /usr/local/lib/python3.6/dist-packages (from pandas>=1.1->meteostat) (2.8.1)\n",
            "Requirement already satisfied: numpy>=1.15.4 in /usr/local/lib/python3.6/dist-packages (from pandas>=1.1->meteostat) (1.19.5)\n",
            "Requirement already satisfied: attrs>=17 in /usr/local/lib/python3.6/dist-packages (from fiona->geopandas) (20.3.0)\n",
            "Requirement already satisfied: certifi in /usr/local/lib/python3.6/dist-packages (from fiona->geopandas) (2020.12.5)\n",
            "Collecting munch\n",
            "  Downloading https://files.pythonhosted.org/packages/cc/ab/85d8da5c9a45e072301beb37ad7f833cd344e04c817d97e0cc75681d248f/munch-2.5.0-py2.py3-none-any.whl\n",
            "Collecting cligj>=0.5\n",
            "  Downloading https://files.pythonhosted.org/packages/42/1e/947eadf10d6804bf276eb8a038bd5307996dceaaa41cfd21b7a15ec62f5d/cligj-0.7.1-py3-none-any.whl\n",
            "Requirement already satisfied: click<8,>=4.0 in /usr/local/lib/python3.6/dist-packages (from fiona->geopandas) (7.1.2)\n",
            "Requirement already satisfied: six>=1.7 in /usr/local/lib/python3.6/dist-packages (from fiona->geopandas) (1.15.0)\n",
            "Collecting click-plugins>=1.0\n",
            "  Downloading https://files.pythonhosted.org/packages/e9/da/824b92d9942f4e472702488857914bdd50f73021efea15b4cad9aca8ecef/click_plugins-1.1.1-py2.py3-none-any.whl\n",
            "Collecting fsspec>=0.6.0; extra == \"dataframe\"\n",
            "\u001b[?25l  Downloading https://files.pythonhosted.org/packages/ec/80/72ac0982cc833945fada4b76c52f0f65435ba4d53bc9317d1c70b5f7e7d5/fsspec-0.8.5-py3-none-any.whl (98kB)\n",
            "\u001b[K     |████████████████████████████████| 102kB 10.4MB/s \n",
            "\u001b[?25hCollecting partd>=0.3.10; extra == \"dataframe\"\n",
            "  Downloading https://files.pythonhosted.org/packages/44/e1/68dbe731c9c067655bff1eca5b7d40c20ca4b23fd5ec9f3d17e201a6f36b/partd-1.1.0-py3-none-any.whl\n",
            "Requirement already satisfied: toolz>=0.7.3; extra == \"dataframe\" in /usr/local/lib/python3.6/dist-packages (from dask[dataframe]>=2.10.0->swifter) (0.11.1)\n",
            "Requirement already satisfied: jupyterlab-widgets>=1.0.0; python_version >= \"3.6\" in /usr/local/lib/python3.6/dist-packages (from ipywidgets>=7.0.0cloudpickle>=0.2.2->swifter) (1.0.0)\n",
            "Requirement already satisfied: ipython>=4.0.0; python_version >= \"3.3\" in /usr/local/lib/python3.6/dist-packages (from ipywidgets>=7.0.0cloudpickle>=0.2.2->swifter) (5.5.0)\n",
            "Requirement already satisfied: nbformat>=4.2.0 in /usr/local/lib/python3.6/dist-packages (from ipywidgets>=7.0.0cloudpickle>=0.2.2->swifter) (5.1.2)\n",
            "Requirement already satisfied: traitlets>=4.3.1 in /usr/local/lib/python3.6/dist-packages (from ipywidgets>=7.0.0cloudpickle>=0.2.2->swifter) (4.3.3)\n",
            "Requirement already satisfied: widgetsnbextension~=3.5.0 in /usr/local/lib/python3.6/dist-packages (from ipywidgets>=7.0.0cloudpickle>=0.2.2->swifter) (3.5.1)\n",
            "Requirement already satisfied: ipykernel>=4.5.1 in /usr/local/lib/python3.6/dist-packages (from ipywidgets>=7.0.0cloudpickle>=0.2.2->swifter) (4.10.1)\n",
            "Requirement already satisfied: webencodings in /usr/local/lib/python3.6/dist-packages (from bleach>=3.1.1->swifter) (0.5.1)\n",
            "Requirement already satisfied: packaging in /usr/local/lib/python3.6/dist-packages (from bleach>=3.1.1->swifter) (20.8)\n",
            "Collecting pyarrow==1.0; extra == \"ray\"\n",
            "\u001b[?25l  Downloading https://files.pythonhosted.org/packages/a1/0a/a89de6d747c4698af128a46398703e3d1889f196478fd94a4e16bd1b5c65/pyarrow-1.0.0-cp36-cp36m-manylinux2014_x86_64.whl (17.2MB)\n",
            "\u001b[K     |████████████████████████████████| 17.2MB 257kB/s \n",
            "\u001b[?25hCollecting ray>=1.0.0; extra == \"ray\"\n",
            "\u001b[?25l  Downloading https://files.pythonhosted.org/packages/fa/e5/0ff593f053ff4fa2a582961272ef893c21d268d3c2c52ff1e7effd891e48/ray-1.1.0-cp36-cp36m-manylinux2014_x86_64.whl (48.5MB)\n",
            "\u001b[K     |████████████████████████████████| 48.5MB 98kB/s \n",
            "\u001b[?25hCollecting locket\n",
            "  Downloading https://files.pythonhosted.org/packages/50/b8/e789e45b9b9c2db75e9d9e6ceb022c8d1d7e49b2c085ce8c05600f90a96b/locket-0.2.1-py2.py3-none-any.whl\n",
            "Requirement already satisfied: setuptools>=18.5 in /usr/local/lib/python3.6/dist-packages (from ipython>=4.0.0; python_version >= \"3.3\"->ipywidgets>=7.0.0cloudpickle>=0.2.2->swifter) (51.3.3)\n",
            "Requirement already satisfied: pygments in /usr/local/lib/python3.6/dist-packages (from ipython>=4.0.0; python_version >= \"3.3\"->ipywidgets>=7.0.0cloudpickle>=0.2.2->swifter) (2.6.1)\n",
            "Requirement already satisfied: decorator in /usr/local/lib/python3.6/dist-packages (from ipython>=4.0.0; python_version >= \"3.3\"->ipywidgets>=7.0.0cloudpickle>=0.2.2->swifter) (4.4.2)\n",
            "Requirement already satisfied: pickleshare in /usr/local/lib/python3.6/dist-packages (from ipython>=4.0.0; python_version >= \"3.3\"->ipywidgets>=7.0.0cloudpickle>=0.2.2->swifter) (0.7.5)\n",
            "Requirement already satisfied: pexpect; sys_platform != \"win32\" in /usr/local/lib/python3.6/dist-packages (from ipython>=4.0.0; python_version >= \"3.3\"->ipywidgets>=7.0.0cloudpickle>=0.2.2->swifter) (4.8.0)\n",
            "Requirement already satisfied: simplegeneric>0.8 in /usr/local/lib/python3.6/dist-packages (from ipython>=4.0.0; python_version >= \"3.3\"->ipywidgets>=7.0.0cloudpickle>=0.2.2->swifter) (0.8.1)\n",
            "Requirement already satisfied: prompt-toolkit<2.0.0,>=1.0.4 in /usr/local/lib/python3.6/dist-packages (from ipython>=4.0.0; python_version >= \"3.3\"->ipywidgets>=7.0.0cloudpickle>=0.2.2->swifter) (1.0.18)\n",
            "Requirement already satisfied: jsonschema!=2.5.0,>=2.4 in /usr/local/lib/python3.6/dist-packages (from nbformat>=4.2.0->ipywidgets>=7.0.0cloudpickle>=0.2.2->swifter) (2.6.0)\n",
            "Requirement already satisfied: jupyter-core in /usr/local/lib/python3.6/dist-packages (from nbformat>=4.2.0->ipywidgets>=7.0.0cloudpickle>=0.2.2->swifter) (4.7.0)\n",
            "Requirement already satisfied: ipython-genutils in /usr/local/lib/python3.6/dist-packages (from nbformat>=4.2.0->ipywidgets>=7.0.0cloudpickle>=0.2.2->swifter) (0.2.0)\n",
            "Requirement already satisfied: notebook>=4.4.1 in /usr/local/lib/python3.6/dist-packages (from widgetsnbextension~=3.5.0->ipywidgets>=7.0.0cloudpickle>=0.2.2->swifter) (5.3.1)\n",
            "Requirement already satisfied: jupyter-client in /usr/local/lib/python3.6/dist-packages (from ipykernel>=4.5.1->ipywidgets>=7.0.0cloudpickle>=0.2.2->swifter) (5.3.5)\n",
            "Requirement already satisfied: tornado>=4.0 in /usr/local/lib/python3.6/dist-packages (from ipykernel>=4.5.1->ipywidgets>=7.0.0cloudpickle>=0.2.2->swifter) (5.1.1)\n",
            "Requirement already satisfied: pyparsing>=2.0.2 in /usr/local/lib/python3.6/dist-packages (from packaging->bleach>=3.1.1->swifter) (2.4.7)\n",
            "Collecting aioredis\n",
            "\u001b[?25l  Downloading https://files.pythonhosted.org/packages/b0/64/1b1612d0a104f21f80eb4c6e1b6075f2e6aba8e228f46f229cfd3fdac859/aioredis-1.3.1-py3-none-any.whl (65kB)\n",
            "\u001b[K     |████████████████████████████████| 71kB 8.6MB/s \n",
            "\u001b[?25hCollecting colorama\n",
            "  Downloading https://files.pythonhosted.org/packages/44/98/5b86278fbbf250d239ae0ecb724f8572af1c91f4a11edf4d36a206189440/colorama-0.4.4-py2.py3-none-any.whl\n",
            "Collecting aiohttp-cors\n",
            "  Downloading https://files.pythonhosted.org/packages/13/e7/e436a0c0eb5127d8b491a9b83ecd2391c6ff7dcd5548dfaec2080a2340fd/aiohttp_cors-0.7.0-py3-none-any.whl\n",
            "Requirement already satisfied: requests in /usr/local/lib/python3.6/dist-packages (from ray>=1.0.0; extra == \"ray\"->modin[ray]>=0.8.1.1->swifter) (2.23.0)\n",
            "Collecting redis>=3.5.0\n",
            "\u001b[?25l  Downloading https://files.pythonhosted.org/packages/a7/7c/24fb0511df653cf1a5d938d8f5d19802a88cef255706fdda242ff97e91b7/redis-3.5.3-py2.py3-none-any.whl (72kB)\n",
            "\u001b[K     |████████████████████████████████| 81kB 9.7MB/s \n",
            "\u001b[?25hRequirement already satisfied: protobuf>=3.8.0 in /usr/local/lib/python3.6/dist-packages (from ray>=1.0.0; extra == \"ray\"->modin[ray]>=0.8.1.1->swifter) (3.12.4)\n",
            "Requirement already satisfied: filelock in /usr/local/lib/python3.6/dist-packages (from ray>=1.0.0; extra == \"ray\"->modin[ray]>=0.8.1.1->swifter) (3.0.12)\n",
            "Requirement already satisfied: grpcio>=1.28.1 in /usr/local/lib/python3.6/dist-packages (from ray>=1.0.0; extra == \"ray\"->modin[ray]>=0.8.1.1->swifter) (1.32.0)\n",
            "Collecting opencensus\n",
            "\u001b[?25l  Downloading https://files.pythonhosted.org/packages/e2/d6/b952f11b29c3a0cbec5620de3c4260cecd8c4329d83e91587edb48691e15/opencensus-0.7.12-py2.py3-none-any.whl (127kB)\n",
            "\u001b[K     |████████████████████████████████| 133kB 36.9MB/s \n",
            "\u001b[?25hCollecting aiohttp\n",
            "\u001b[?25l  Downloading https://files.pythonhosted.org/packages/ad/e6/d4b6235d776c9b33f853e603efede5aac5a34f71ca9d3877adb30492eb4e/aiohttp-3.7.3-cp36-cp36m-manylinux2014_x86_64.whl (1.3MB)\n",
            "\u001b[K     |████████████████████████████████| 1.3MB 34.8MB/s \n",
            "\u001b[?25hCollecting gpustat\n",
            "\u001b[?25l  Downloading https://files.pythonhosted.org/packages/b4/69/d8c849715171aeabd61af7da080fdc60948b5a396d2422f1f4672e43d008/gpustat-0.6.0.tar.gz (78kB)\n",
            "\u001b[K     |████████████████████████████████| 81kB 9.2MB/s \n",
            "\u001b[?25hRequirement already satisfied: msgpack<2.0.0,>=1.0.0 in /usr/local/lib/python3.6/dist-packages (from ray>=1.0.0; extra == \"ray\"->modin[ray]>=0.8.1.1->swifter) (1.0.2)\n",
            "Requirement already satisfied: prometheus-client>=0.7.1 in /usr/local/lib/python3.6/dist-packages (from ray>=1.0.0; extra == \"ray\"->modin[ray]>=0.8.1.1->swifter) (0.9.0)\n",
            "Collecting py-spy>=0.2.0\n",
            "\u001b[?25l  Downloading https://files.pythonhosted.org/packages/0c/b7/2056a6f06adb93f679f2a1e415dd33219b7c66ba69b8fd2ff1668b8064ed/py_spy-0.3.4-py2.py3-none-manylinux1_x86_64.whl (3.2MB)\n",
            "\u001b[K     |████████████████████████████████| 3.2MB 38.3MB/s \n",
            "\u001b[?25hCollecting colorful\n",
            "\u001b[?25l  Downloading https://files.pythonhosted.org/packages/b0/8e/e386e248266952d24d73ed734c2f5513f34d9557032618c8910e605dfaf6/colorful-0.5.4-py2.py3-none-any.whl (201kB)\n",
            "\u001b[K     |████████████████████████████████| 204kB 51.3MB/s \n",
            "\u001b[?25hRequirement already satisfied: pyyaml in /usr/local/lib/python3.6/dist-packages (from ray>=1.0.0; extra == \"ray\"->modin[ray]>=0.8.1.1->swifter) (3.13)\n",
            "Requirement already satisfied: ptyprocess>=0.5 in /usr/local/lib/python3.6/dist-packages (from pexpect; sys_platform != \"win32\"->ipython>=4.0.0; python_version >= \"3.3\"->ipywidgets>=7.0.0cloudpickle>=0.2.2->swifter) (0.7.0)\n",
            "Requirement already satisfied: wcwidth in /usr/local/lib/python3.6/dist-packages (from prompt-toolkit<2.0.0,>=1.0.4->ipython>=4.0.0; python_version >= \"3.3\"->ipywidgets>=7.0.0cloudpickle>=0.2.2->swifter) (0.2.5)\n",
            "Requirement already satisfied: jinja2 in /usr/local/lib/python3.6/dist-packages (from notebook>=4.4.1->widgetsnbextension~=3.5.0->ipywidgets>=7.0.0cloudpickle>=0.2.2->swifter) (2.11.2)\n",
            "Requirement already satisfied: nbconvert in /usr/local/lib/python3.6/dist-packages (from notebook>=4.4.1->widgetsnbextension~=3.5.0->ipywidgets>=7.0.0cloudpickle>=0.2.2->swifter) (5.6.1)\n",
            "Requirement already satisfied: terminado>=0.8.1 in /usr/local/lib/python3.6/dist-packages (from notebook>=4.4.1->widgetsnbextension~=3.5.0->ipywidgets>=7.0.0cloudpickle>=0.2.2->swifter) (0.9.2)\n",
            "Requirement already satisfied: Send2Trash in /usr/local/lib/python3.6/dist-packages (from notebook>=4.4.1->widgetsnbextension~=3.5.0->ipywidgets>=7.0.0cloudpickle>=0.2.2->swifter) (1.5.0)\n",
            "Requirement already satisfied: pyzmq>=13 in /usr/local/lib/python3.6/dist-packages (from jupyter-client->ipykernel>=4.5.1->ipywidgets>=7.0.0cloudpickle>=0.2.2->swifter) (21.0.2)\n",
            "Collecting async-timeout\n",
            "  Downloading https://files.pythonhosted.org/packages/e1/1e/5a4441be21b0726c4464f3f23c8b19628372f606755a9d2e46c187e65ec4/async_timeout-3.0.1-py3-none-any.whl\n",
            "Collecting hiredis\n",
            "\u001b[?25l  Downloading https://files.pythonhosted.org/packages/ed/7d/6acf1c8d4f2fb327ff6feec000b4c56a20628fbe966a4c7cd16c0b80343c/hiredis-1.1.0-cp36-cp36m-manylinux2010_x86_64.whl (61kB)\n",
            "\u001b[K     |████████████████████████████████| 61kB 6.8MB/s \n",
            "\u001b[?25hRequirement already satisfied: idna<3,>=2.5 in /usr/local/lib/python3.6/dist-packages (from requests->ray>=1.0.0; extra == \"ray\"->modin[ray]>=0.8.1.1->swifter) (2.10)\n",
            "Requirement already satisfied: chardet<4,>=3.0.2 in /usr/local/lib/python3.6/dist-packages (from requests->ray>=1.0.0; extra == \"ray\"->modin[ray]>=0.8.1.1->swifter) (3.0.4)\n",
            "Requirement already satisfied: urllib3!=1.25.0,!=1.25.1,<1.26,>=1.21.1 in /usr/local/lib/python3.6/dist-packages (from requests->ray>=1.0.0; extra == \"ray\"->modin[ray]>=0.8.1.1->swifter) (1.24.3)\n",
            "Collecting opencensus-context==0.1.2\n",
            "  Downloading https://files.pythonhosted.org/packages/f1/33/990f1bd9e7ee770fc8d3c154fc24743a96f16a0e49e14e1b7540cc2fdd93/opencensus_context-0.1.2-py2.py3-none-any.whl\n",
            "Requirement already satisfied: google-api-core<2.0.0,>=1.0.0 in /usr/local/lib/python3.6/dist-packages (from opencensus->ray>=1.0.0; extra == \"ray\"->modin[ray]>=0.8.1.1->swifter) (1.16.0)\n",
            "Requirement already satisfied: typing-extensions>=3.6.5 in /usr/local/lib/python3.6/dist-packages (from aiohttp->ray>=1.0.0; extra == \"ray\"->modin[ray]>=0.8.1.1->swifter) (3.7.4.3)\n",
            "Collecting idna-ssl>=1.0; python_version < \"3.7\"\n",
            "  Downloading https://files.pythonhosted.org/packages/46/03/07c4894aae38b0de52b52586b24bf189bb83e4ddabfe2e2c8f2419eec6f4/idna-ssl-1.1.0.tar.gz\n",
            "Collecting multidict<7.0,>=4.5\n",
            "\u001b[?25l  Downloading https://files.pythonhosted.org/packages/a1/35/b22524d6b9cacfb4c5eff413a069bbc17c6ea628e54da5c6c989998ced5f/multidict-5.1.0-cp36-cp36m-manylinux2014_x86_64.whl (141kB)\n",
            "\u001b[K     |████████████████████████████████| 143kB 55.2MB/s \n",
            "\u001b[?25hCollecting yarl<2.0,>=1.0\n",
            "\u001b[?25l  Downloading https://files.pythonhosted.org/packages/da/08/52b26b44bce7b818b410aee37c5e424c9ea420c557bca97dc2adac29b151/yarl-1.6.3-cp36-cp36m-manylinux2014_x86_64.whl (293kB)\n",
            "\u001b[K     |████████████████████████████████| 296kB 54.8MB/s \n",
            "\u001b[?25hRequirement already satisfied: nvidia-ml-py3>=7.352.0 in /usr/local/lib/python3.6/dist-packages (from gpustat->ray>=1.0.0; extra == \"ray\"->modin[ray]>=0.8.1.1->swifter) (7.352.0)\n",
            "Collecting blessings>=1.6\n",
            "  Downloading https://files.pythonhosted.org/packages/03/74/489f85a78247609c6b4f13733cbf3ba0d864b11aa565617b645d6fdf2a4a/blessings-1.7-py3-none-any.whl\n",
            "Requirement already satisfied: MarkupSafe>=0.23 in /usr/local/lib/python3.6/dist-packages (from jinja2->notebook>=4.4.1->widgetsnbextension~=3.5.0->ipywidgets>=7.0.0cloudpickle>=0.2.2->swifter) (1.1.1)\n",
            "Requirement already satisfied: entrypoints>=0.2.2 in /usr/local/lib/python3.6/dist-packages (from nbconvert->notebook>=4.4.1->widgetsnbextension~=3.5.0->ipywidgets>=7.0.0cloudpickle>=0.2.2->swifter) (0.3)\n",
            "Requirement already satisfied: mistune<2,>=0.8.1 in /usr/local/lib/python3.6/dist-packages (from nbconvert->notebook>=4.4.1->widgetsnbextension~=3.5.0->ipywidgets>=7.0.0cloudpickle>=0.2.2->swifter) (0.8.4)\n",
            "Requirement already satisfied: testpath in /usr/local/lib/python3.6/dist-packages (from nbconvert->notebook>=4.4.1->widgetsnbextension~=3.5.0->ipywidgets>=7.0.0cloudpickle>=0.2.2->swifter) (0.4.4)\n",
            "Requirement already satisfied: pandocfilters>=1.4.1 in /usr/local/lib/python3.6/dist-packages (from nbconvert->notebook>=4.4.1->widgetsnbextension~=3.5.0->ipywidgets>=7.0.0cloudpickle>=0.2.2->swifter) (1.4.3)\n",
            "Requirement already satisfied: defusedxml in /usr/local/lib/python3.6/dist-packages (from nbconvert->notebook>=4.4.1->widgetsnbextension~=3.5.0->ipywidgets>=7.0.0cloudpickle>=0.2.2->swifter) (0.6.0)\n",
            "Collecting contextvars; python_version >= \"3.6\" and python_version < \"3.7\"\n",
            "  Downloading https://files.pythonhosted.org/packages/83/96/55b82d9f13763be9d672622e1b8106c85acb83edd7cc2fa5bc67cd9877e9/contextvars-2.4.tar.gz\n",
            "Requirement already satisfied: googleapis-common-protos<2.0dev,>=1.6.0 in /usr/local/lib/python3.6/dist-packages (from google-api-core<2.0.0,>=1.0.0->opencensus->ray>=1.0.0; extra == \"ray\"->modin[ray]>=0.8.1.1->swifter) (1.52.0)\n",
            "Requirement already satisfied: google-auth<2.0dev,>=0.4.0 in /usr/local/lib/python3.6/dist-packages (from google-api-core<2.0.0,>=1.0.0->opencensus->ray>=1.0.0; extra == \"ray\"->modin[ray]>=0.8.1.1->swifter) (1.17.2)\n",
            "Collecting immutables>=0.9\n",
            "\u001b[?25l  Downloading https://files.pythonhosted.org/packages/99/e0/ea6fd4697120327d26773b5a84853f897a68e33d3f9376b00a8ff96e4f63/immutables-0.14-cp36-cp36m-manylinux1_x86_64.whl (98kB)\n",
            "\u001b[K     |████████████████████████████████| 102kB 9.4MB/s \n",
            "\u001b[?25hRequirement already satisfied: pyasn1-modules>=0.2.1 in /usr/local/lib/python3.6/dist-packages (from google-auth<2.0dev,>=0.4.0->google-api-core<2.0.0,>=1.0.0->opencensus->ray>=1.0.0; extra == \"ray\"->modin[ray]>=0.8.1.1->swifter) (0.2.8)\n",
            "Requirement already satisfied: rsa<5,>=3.1.4; python_version >= \"3\" in /usr/local/lib/python3.6/dist-packages (from google-auth<2.0dev,>=0.4.0->google-api-core<2.0.0,>=1.0.0->opencensus->ray>=1.0.0; extra == \"ray\"->modin[ray]>=0.8.1.1->swifter) (4.7)\n",
            "Requirement already satisfied: cachetools<5.0,>=2.0.0 in /usr/local/lib/python3.6/dist-packages (from google-auth<2.0dev,>=0.4.0->google-api-core<2.0.0,>=1.0.0->opencensus->ray>=1.0.0; extra == \"ray\"->modin[ray]>=0.8.1.1->swifter) (4.2.1)\n",
            "Requirement already satisfied: pyasn1<0.5.0,>=0.4.6 in /usr/local/lib/python3.6/dist-packages (from pyasn1-modules>=0.2.1->google-auth<2.0dev,>=0.4.0->google-api-core<2.0.0,>=1.0.0->opencensus->ray>=1.0.0; extra == \"ray\"->modin[ray]>=0.8.1.1->swifter) (0.4.8)\n",
            "Building wheels for collected packages: meteostat, swifter, gpustat, idna-ssl, contextvars\n",
            "  Building wheel for meteostat (setup.py) ... \u001b[?25l\u001b[?25hdone\n",
            "  Created wheel for meteostat: filename=meteostat-1.0.3-cp36-none-any.whl size=13105 sha256=7f167ad5a59f81d19625836694f84e97ad4d62f6baf2d36072926115298a6fe7\n",
            "  Stored in directory: /root/.cache/pip/wheels/47/a5/ec/28fcea57c24e30e9c4cf9fbe3187db5f2f2b95c997d2c5aed7\n",
            "  Building wheel for swifter (setup.py) ... \u001b[?25l\u001b[?25hdone\n",
            "  Created wheel for swifter: filename=swifter-1.0.7-cp36-none-any.whl size=13977 sha256=8f6e3b12e51fc394323ad2831610dd98bba7b5c835349a629b56943e28de7bc3\n",
            "  Stored in directory: /root/.cache/pip/wheels/99/58/39/5b59c5f4d66ce67bf55f0178e0940c964e89e9f60d70376a37\n",
            "  Building wheel for gpustat (setup.py) ... \u001b[?25l\u001b[?25hdone\n",
            "  Created wheel for gpustat: filename=gpustat-0.6.0-cp36-none-any.whl size=12622 sha256=f2e08c6e5f062e969cd9e7b52bf9bb406fd037d02cd889f0bcf101e6213c76c7\n",
            "  Stored in directory: /root/.cache/pip/wheels/48/b4/d5/fb5b7f1d040f2ff20687e3bad6867d63155dbde5a7c10f4293\n",
            "  Building wheel for idna-ssl (setup.py) ... \u001b[?25l\u001b[?25hdone\n",
            "  Created wheel for idna-ssl: filename=idna_ssl-1.1.0-cp36-none-any.whl size=3163 sha256=2f19505eed5df678f3a868ba6d867c288634167ffcb559c5bdbd5f249fe2be85\n",
            "  Stored in directory: /root/.cache/pip/wheels/d3/00/b3/32d613e19e08a739751dd6bf998cfed277728f8b2127ad4eb7\n",
            "  Building wheel for contextvars (setup.py) ... \u001b[?25l\u001b[?25hdone\n",
            "  Created wheel for contextvars: filename=contextvars-2.4-cp36-none-any.whl size=7667 sha256=83d69c505debda821a3e3a4d9a1786274b972e0d8486f997aa25a43066669b6b\n",
            "  Stored in directory: /root/.cache/pip/wheels/a5/7d/68/1ebae2668bda2228686e3c1cf16f2c2384cea6e9334ad5f6de\n",
            "Successfully built meteostat swifter gpustat idna-ssl contextvars\n",
            "Installing collected packages: meteostat, munch, cligj, click-plugins, fiona, pyproj, geopandas, psutil, pyarrow, async-timeout, hiredis, aioredis, colorama, idna-ssl, multidict, yarl, aiohttp, aiohttp-cors, redis, immutables, contextvars, opencensus-context, opencensus, blessings, gpustat, py-spy, colorful, ray, modin, swifter, fsspec, locket, partd\n",
            "  Found existing installation: psutil 5.4.8\n",
            "    Uninstalling psutil-5.4.8:\n",
            "      Successfully uninstalled psutil-5.4.8\n",
            "  Found existing installation: pyarrow 0.14.1\n",
            "    Uninstalling pyarrow-0.14.1:\n",
            "      Successfully uninstalled pyarrow-0.14.1\n",
            "Successfully installed aiohttp-3.7.3 aiohttp-cors-0.7.0 aioredis-1.3.1 async-timeout-3.0.1 blessings-1.7 click-plugins-1.1.1 cligj-0.7.1 colorama-0.4.4 colorful-0.5.4 contextvars-2.4 fiona-1.8.18 fsspec-0.8.5 geopandas-0.8.2 gpustat-0.6.0 hiredis-1.1.0 idna-ssl-1.1.0 immutables-0.14 locket-0.2.1 meteostat-1.0.3 modin-0.8.3 multidict-5.1.0 munch-2.5.0 opencensus-0.7.12 opencensus-context-0.1.2 partd-1.1.0 psutil-5.8.0 py-spy-0.3.4 pyarrow-1.0.0 pyproj-3.0.0.post1 ray-1.1.0 redis-3.5.3 swifter-1.0.7 yarl-1.6.3\n"
          ],
          "name": "stdout"
        }
      ]
    },
    {
      "cell_type": "code",
      "metadata": {
        "id": "e42DovuvJgUT"
      },
      "source": [
        "# importing libraries\r\n",
        "import pandas as pd\r\n",
        "import matplotlib.pyplot as plt\r\n",
        "#import descartes\r\n",
        "# import geopandas as gpd\r\n",
        "from shapely.geometry import Point, Polygon\r\n",
        "import io\r\n",
        "\r\n",
        "# Import Meteostat library and dependencies\r\n",
        "from datetime import datetime\r\n",
        "from meteostat import Hourly\r\n",
        "from meteostat import Stations\r\n",
        "import numpy as np\r\n",
        "import swifter\r\n",
        "import pickle"
      ],
      "execution_count": 2,
      "outputs": []
    },
    {
      "cell_type": "code",
      "metadata": {
        "id": "5zJAaWosN1E_",
        "colab": {
          "base_uri": "https://localhost:8080/"
        },
        "outputId": "3b4850e6-9d66-4a6c-b87a-608298fc1536"
      },
      "source": [
        "from google.colab import drive\r\n",
        "drive.mount('/content/gdrive')"
      ],
      "execution_count": 3,
      "outputs": [
        {
          "output_type": "stream",
          "text": [
            "Mounted at /content/gdrive\n"
          ],
          "name": "stdout"
        }
      ]
    },
    {
      "cell_type": "code",
      "metadata": {
        "id": "xIpyWSKcTMcA"
      },
      "source": [
        "from google.colab import files\r\n",
        "\r\n",
        "url=\"/content/gdrive/My Drive/three_trackes_with_weather.csv\"\r\n",
        "tracks_with_weather=pd.read_csv(url)"
      ],
      "execution_count": 5,
      "outputs": []
    },
    {
      "cell_type": "markdown",
      "metadata": {
        "id": "9SfcLWUCFUag"
      },
      "source": [
        "### Finding Correlation and Fitting Model"
      ]
    },
    {
      "cell_type": "markdown",
      "metadata": {
        "id": "pv_ac46uENDU"
      },
      "source": [
        "Fetching Data For Each Weather Features\r\n",
        "- temp: temperature in degree Celcius\r\n",
        "- dwpt: dew point temperature in degres Celcius\r\n",
        "- rhum: relative humidity\r\n",
        "- wdir: wind direction\r\n",
        "- wspd: wind speed\r\n",
        "- pres: pressure"
      ]
    },
    {
      "cell_type": "code",
      "metadata": {
        "id": "-mja7YySCaUl"
      },
      "source": [
        "sample_tracks = tracks_with_weather.dropna(subset=['temp', 'dwpt', 'rhum', 'wdir', 'wspd', 'pres']).copy()\r\n",
        "sample_tracks.drop(['Unnamed: 0','# Timestamp', 'Type of mobile', 'Navigational status', 'Name', 'Ship type','Type of position fixing device',\t'Data source type', 'tsun', 'coco', 'snow'], axis = 1, inplace = True)"
      ],
      "execution_count": 6,
      "outputs": []
    },
    {
      "cell_type": "code",
      "metadata": {
        "colab": {
          "base_uri": "https://localhost:8080/"
        },
        "id": "GztcVDWnQtpz",
        "outputId": "176e6ed9-0a45-4789-8573-cc56ced076eb"
      },
      "source": [
        "sample_tracks.columns"
      ],
      "execution_count": 7,
      "outputs": [
        {
          "output_type": "execute_result",
          "data": {
            "text/plain": [
              "Index(['MMSI', 'Latitude', 'Longitude', 'ROT', 'SOG', 'COG', 'Heading',\n",
              "       'Width', 'Length', 'temp', 'dwpt', 'rhum', 'prcp', 'wdir', 'wspd',\n",
              "       'wpgt', 'pres'],\n",
              "      dtype='object')"
            ]
          },
          "metadata": {
            "tags": []
          },
          "execution_count": 7
        }
      ]
    },
    {
      "cell_type": "code",
      "metadata": {
        "colab": {
          "base_uri": "https://localhost:8080/",
          "height": 678
        },
        "id": "old8eUGFFltE",
        "outputId": "b27aede3-300c-44a1-8567-2be7e0b6a257"
      },
      "source": [
        "sample_tracks.MMSI = sample_tracks.MMSI.astype(float)\r\n",
        "sample_tracks.corrwith(sample_tracks.SOG).sort_values(ascending=False).plot.bar(\r\n",
        "        figsize = (20, 10), title = \"Correlation with class\", fontsize = 15,\r\n",
        "        rot = 45, grid = True)"
      ],
      "execution_count": 8,
      "outputs": [
        {
          "output_type": "execute_result",
          "data": {
            "text/plain": [
              "<matplotlib.axes._subplots.AxesSubplot at 0x7f4e1757eb70>"
            ]
          },
          "metadata": {
            "tags": []
          },
          "execution_count": 8
        },
        {
          "output_type": "display_data",
          "data": {
            "image/png": "[encoded data removed]",
            "text/plain": [
              "<Figure size 1440x720 with 1 Axes>"
            ]
          },
          "metadata": {
            "tags": [],
            "needs_background": "light"
          }
        }
      ]
    },
    {
      "cell_type": "code",
      "metadata": {
        "colab": {
          "base_uri": "https://localhost:8080/",
          "height": 407
        },
        "id": "0R5baZ5zvbeo",
        "outputId": "7115e2b9-7d4b-45be-e9b8-b165e2ff1380"
      },
      "source": [
        "sample_tracks"
      ],
      "execution_count": null,
      "outputs": [
        {
          "output_type": "execute_result",
          "data": {
            "text/html": [
              "<div>\n",
              "<style scoped>\n",
              "    .dataframe tbody tr th:only-of-type {\n",
              "        vertical-align: middle;\n",
              "    }\n",
              "\n",
              "    .dataframe tbody tr th {\n",
              "        vertical-align: top;\n",
              "    }\n",
              "\n",
              "    .dataframe thead th {\n",
              "        text-align: right;\n",
              "    }\n",
              "</style>\n",
              "<table border=\"1\" class=\"dataframe\">\n",
              "  <thead>\n",
              "    <tr style=\"text-align: right;\">\n",
              "      <th></th>\n",
              "      <th>MMSI</th>\n",
              "      <th>Latitude</th>\n",
              "      <th>Longitude</th>\n",
              "      <th>ROT</th>\n",
              "      <th>SOG</th>\n",
              "      <th>COG</th>\n",
              "      <th>Heading</th>\n",
              "      <th>Width</th>\n",
              "      <th>Length</th>\n",
              "      <th>temp</th>\n",
              "      <th>dwpt</th>\n",
              "      <th>rhum</th>\n",
              "      <th>prcp</th>\n",
              "      <th>wdir</th>\n",
              "      <th>wspd</th>\n",
              "      <th>wpgt</th>\n",
              "      <th>pres</th>\n",
              "    </tr>\n",
              "  </thead>\n",
              "  <tbody>\n",
              "    <tr>\n",
              "      <th>0</th>\n",
              "      <td>538002777.0</td>\n",
              "      <td>56.763667</td>\n",
              "      <td>11.913167</td>\n",
              "      <td>-5.4</td>\n",
              "      <td>10.3</td>\n",
              "      <td>344.0</td>\n",
              "      <td>338.0</td>\n",
              "      <td>32.0</td>\n",
              "      <td>195.0</td>\n",
              "      <td>6.8</td>\n",
              "      <td>4.3</td>\n",
              "      <td>84.0</td>\n",
              "      <td>0.7</td>\n",
              "      <td>138.0</td>\n",
              "      <td>42.6</td>\n",
              "      <td>70.4</td>\n",
              "      <td>981.7</td>\n",
              "    </tr>\n",
              "    <tr>\n",
              "      <th>1</th>\n",
              "      <td>538002777.0</td>\n",
              "      <td>56.764167</td>\n",
              "      <td>11.913000</td>\n",
              "      <td>7.5</td>\n",
              "      <td>10.4</td>\n",
              "      <td>344.0</td>\n",
              "      <td>339.0</td>\n",
              "      <td>32.0</td>\n",
              "      <td>195.0</td>\n",
              "      <td>6.8</td>\n",
              "      <td>4.3</td>\n",
              "      <td>84.0</td>\n",
              "      <td>0.7</td>\n",
              "      <td>138.0</td>\n",
              "      <td>42.6</td>\n",
              "      <td>70.4</td>\n",
              "      <td>981.7</td>\n",
              "    </tr>\n",
              "    <tr>\n",
              "      <th>2</th>\n",
              "      <td>538002777.0</td>\n",
              "      <td>56.764333</td>\n",
              "      <td>11.912833</td>\n",
              "      <td>6.4</td>\n",
              "      <td>10.4</td>\n",
              "      <td>344.0</td>\n",
              "      <td>340.0</td>\n",
              "      <td>32.0</td>\n",
              "      <td>195.0</td>\n",
              "      <td>6.8</td>\n",
              "      <td>4.3</td>\n",
              "      <td>84.0</td>\n",
              "      <td>0.7</td>\n",
              "      <td>138.0</td>\n",
              "      <td>42.6</td>\n",
              "      <td>70.4</td>\n",
              "      <td>981.7</td>\n",
              "    </tr>\n",
              "    <tr>\n",
              "      <th>3</th>\n",
              "      <td>538002777.0</td>\n",
              "      <td>56.764667</td>\n",
              "      <td>11.912667</td>\n",
              "      <td>11.4</td>\n",
              "      <td>10.3</td>\n",
              "      <td>345.0</td>\n",
              "      <td>340.0</td>\n",
              "      <td>32.0</td>\n",
              "      <td>195.0</td>\n",
              "      <td>6.8</td>\n",
              "      <td>4.3</td>\n",
              "      <td>84.0</td>\n",
              "      <td>0.7</td>\n",
              "      <td>138.0</td>\n",
              "      <td>42.6</td>\n",
              "      <td>70.4</td>\n",
              "      <td>981.7</td>\n",
              "    </tr>\n",
              "    <tr>\n",
              "      <th>4</th>\n",
              "      <td>538002777.0</td>\n",
              "      <td>56.764833</td>\n",
              "      <td>11.912500</td>\n",
              "      <td>-5.4</td>\n",
              "      <td>10.3</td>\n",
              "      <td>345.0</td>\n",
              "      <td>341.0</td>\n",
              "      <td>32.0</td>\n",
              "      <td>195.0</td>\n",
              "      <td>6.8</td>\n",
              "      <td>4.3</td>\n",
              "      <td>84.0</td>\n",
              "      <td>0.7</td>\n",
              "      <td>138.0</td>\n",
              "      <td>42.6</td>\n",
              "      <td>70.4</td>\n",
              "      <td>981.7</td>\n",
              "    </tr>\n",
              "    <tr>\n",
              "      <th>...</th>\n",
              "      <td>...</td>\n",
              "      <td>...</td>\n",
              "      <td>...</td>\n",
              "      <td>...</td>\n",
              "      <td>...</td>\n",
              "      <td>...</td>\n",
              "      <td>...</td>\n",
              "      <td>...</td>\n",
              "      <td>...</td>\n",
              "      <td>...</td>\n",
              "      <td>...</td>\n",
              "      <td>...</td>\n",
              "      <td>...</td>\n",
              "      <td>...</td>\n",
              "      <td>...</td>\n",
              "      <td>...</td>\n",
              "      <td>...</td>\n",
              "    </tr>\n",
              "    <tr>\n",
              "      <th>23321</th>\n",
              "      <td>538090512.0</td>\n",
              "      <td>55.220082</td>\n",
              "      <td>13.111102</td>\n",
              "      <td>0.0</td>\n",
              "      <td>14.8</td>\n",
              "      <td>95.5</td>\n",
              "      <td>95.0</td>\n",
              "      <td>27.0</td>\n",
              "      <td>184.0</td>\n",
              "      <td>4.6</td>\n",
              "      <td>2.9</td>\n",
              "      <td>89.0</td>\n",
              "      <td>0.0</td>\n",
              "      <td>120.0</td>\n",
              "      <td>22.2</td>\n",
              "      <td>33.3</td>\n",
              "      <td>985.2</td>\n",
              "    </tr>\n",
              "    <tr>\n",
              "      <th>23322</th>\n",
              "      <td>538090512.0</td>\n",
              "      <td>55.220042</td>\n",
              "      <td>13.111810</td>\n",
              "      <td>0.0</td>\n",
              "      <td>14.8</td>\n",
              "      <td>95.5</td>\n",
              "      <td>95.0</td>\n",
              "      <td>27.0</td>\n",
              "      <td>184.0</td>\n",
              "      <td>4.6</td>\n",
              "      <td>2.9</td>\n",
              "      <td>89.0</td>\n",
              "      <td>0.0</td>\n",
              "      <td>120.0</td>\n",
              "      <td>22.2</td>\n",
              "      <td>33.3</td>\n",
              "      <td>985.2</td>\n",
              "    </tr>\n",
              "    <tr>\n",
              "      <th>23323</th>\n",
              "      <td>538090512.0</td>\n",
              "      <td>55.220010</td>\n",
              "      <td>13.112400</td>\n",
              "      <td>0.0</td>\n",
              "      <td>14.8</td>\n",
              "      <td>95.5</td>\n",
              "      <td>95.0</td>\n",
              "      <td>27.0</td>\n",
              "      <td>184.0</td>\n",
              "      <td>4.6</td>\n",
              "      <td>2.9</td>\n",
              "      <td>89.0</td>\n",
              "      <td>0.0</td>\n",
              "      <td>120.0</td>\n",
              "      <td>22.2</td>\n",
              "      <td>33.3</td>\n",
              "      <td>985.2</td>\n",
              "    </tr>\n",
              "    <tr>\n",
              "      <th>23324</th>\n",
              "      <td>538090512.0</td>\n",
              "      <td>55.219963</td>\n",
              "      <td>13.113232</td>\n",
              "      <td>0.0</td>\n",
              "      <td>14.8</td>\n",
              "      <td>95.4</td>\n",
              "      <td>95.0</td>\n",
              "      <td>27.0</td>\n",
              "      <td>184.0</td>\n",
              "      <td>4.6</td>\n",
              "      <td>2.9</td>\n",
              "      <td>89.0</td>\n",
              "      <td>0.0</td>\n",
              "      <td>120.0</td>\n",
              "      <td>22.2</td>\n",
              "      <td>33.3</td>\n",
              "      <td>985.2</td>\n",
              "    </tr>\n",
              "    <tr>\n",
              "      <th>23325</th>\n",
              "      <td>538090512.0</td>\n",
              "      <td>55.219932</td>\n",
              "      <td>13.113825</td>\n",
              "      <td>0.0</td>\n",
              "      <td>14.8</td>\n",
              "      <td>95.3</td>\n",
              "      <td>95.0</td>\n",
              "      <td>27.0</td>\n",
              "      <td>184.0</td>\n",
              "      <td>4.6</td>\n",
              "      <td>2.9</td>\n",
              "      <td>89.0</td>\n",
              "      <td>0.0</td>\n",
              "      <td>120.0</td>\n",
              "      <td>22.2</td>\n",
              "      <td>33.3</td>\n",
              "      <td>985.2</td>\n",
              "    </tr>\n",
              "  </tbody>\n",
              "</table>\n",
              "<p>18419 rows × 17 columns</p>\n",
              "</div>"
            ],
            "text/plain": [
              "              MMSI   Latitude  Longitude   ROT  ...   wdir  wspd  wpgt   pres\n",
              "0      538002777.0  56.763667  11.913167  -5.4  ...  138.0  42.6  70.4  981.7\n",
              "1      538002777.0  56.764167  11.913000   7.5  ...  138.0  42.6  70.4  981.7\n",
              "2      538002777.0  56.764333  11.912833   6.4  ...  138.0  42.6  70.4  981.7\n",
              "3      538002777.0  56.764667  11.912667  11.4  ...  138.0  42.6  70.4  981.7\n",
              "4      538002777.0  56.764833  11.912500  -5.4  ...  138.0  42.6  70.4  981.7\n",
              "...            ...        ...        ...   ...  ...    ...   ...   ...    ...\n",
              "23321  538090512.0  55.220082  13.111102   0.0  ...  120.0  22.2  33.3  985.2\n",
              "23322  538090512.0  55.220042  13.111810   0.0  ...  120.0  22.2  33.3  985.2\n",
              "23323  538090512.0  55.220010  13.112400   0.0  ...  120.0  22.2  33.3  985.2\n",
              "23324  538090512.0  55.219963  13.113232   0.0  ...  120.0  22.2  33.3  985.2\n",
              "23325  538090512.0  55.219932  13.113825   0.0  ...  120.0  22.2  33.3  985.2\n",
              "\n",
              "[18419 rows x 17 columns]"
            ]
          },
          "metadata": {
            "tags": []
          },
          "execution_count": 9
        }
      ]
    },
    {
      "cell_type": "code",
      "metadata": {
        "colab": {
          "base_uri": "https://localhost:8080/"
        },
        "id": "5W_TEiddZ5zt",
        "outputId": "17a2fc5e-d0b2-49b7-d49d-b0180595ee7a"
      },
      "source": [
        "sample_tracks.iloc[10445]"
      ],
      "execution_count": 9,
      "outputs": [
        {
          "output_type": "execute_result",
          "data": {
            "text/plain": [
              "MMSI         2.190760e+08\n",
              "Latitude     5.457057e+01\n",
              "Longitude    1.230964e+01\n",
              "ROT         -1.600000e+00\n",
              "SOG          1.170000e+01\n",
              "COG          1.890000e+01\n",
              "Heading      1.900000e+01\n",
              "Width        2.200000e+01\n",
              "Length       1.410000e+02\n",
              "temp         3.500000e+00\n",
              "dwpt         1.500000e+00\n",
              "rhum         8.700000e+01\n",
              "prcp         0.000000e+00\n",
              "wdir         1.360000e+02\n",
              "wspd         2.040000e+01\n",
              "wpgt         3.330000e+01\n",
              "pres         9.844000e+02\n",
              "Name: 12260, dtype: float64"
            ]
          },
          "metadata": {
            "tags": []
          },
          "execution_count": 9
        }
      ]
    },
    {
      "cell_type": "markdown",
      "metadata": {
        "id": "r4ABjJdtjsqh"
      },
      "source": [
        "Separating Features And Target"
      ]
    },
    {
      "cell_type": "code",
      "metadata": {
        "id": "JbdSwd6AiunD",
        "colab": {
          "base_uri": "https://localhost:8080/"
        },
        "outputId": "58be980c-3537-4db3-8512-3e79475fbe33"
      },
      "source": [
        "y = sample_tracks['SOG'].copy().ravel()\r\n",
        "y"
      ],
      "execution_count": 10,
      "outputs": [
        {
          "output_type": "execute_result",
          "data": {
            "text/plain": [
              "array([10.3, 10.4, 10.4, ..., 14.8, 14.8, 14.8])"
            ]
          },
          "metadata": {
            "tags": []
          },
          "execution_count": 10
        }
      ]
    },
    {
      "cell_type": "code",
      "metadata": {
        "id": "5MGNClERi8C-"
      },
      "source": [
        "X = sample_tracks[['COG','Heading', 'pres', 'temp']].copy()"
      ],
      "execution_count": 26,
      "outputs": []
    },
    {
      "cell_type": "code",
      "metadata": {
        "colab": {
          "base_uri": "https://localhost:8080/",
          "height": 419
        },
        "id": "s_P0mQfDJnLs",
        "outputId": "799bf532-477a-4fa2-dc6b-2f85a7ecdab3"
      },
      "source": [
        "X"
      ],
      "execution_count": 12,
      "outputs": [
        {
          "output_type": "execute_result",
          "data": {
            "text/html": [
              "<div>\n",
              "<style scoped>\n",
              "    .dataframe tbody tr th:only-of-type {\n",
              "        vertical-align: middle;\n",
              "    }\n",
              "\n",
              "    .dataframe tbody tr th {\n",
              "        vertical-align: top;\n",
              "    }\n",
              "\n",
              "    .dataframe thead th {\n",
              "        text-align: right;\n",
              "    }\n",
              "</style>\n",
              "<table border=\"1\" class=\"dataframe\">\n",
              "  <thead>\n",
              "    <tr style=\"text-align: right;\">\n",
              "      <th></th>\n",
              "      <th>COG</th>\n",
              "      <th>Heading</th>\n",
              "      <th>pres</th>\n",
              "      <th>temp</th>\n",
              "      <th>Length</th>\n",
              "      <th>MMSI</th>\n",
              "    </tr>\n",
              "  </thead>\n",
              "  <tbody>\n",
              "    <tr>\n",
              "      <th>0</th>\n",
              "      <td>344.0</td>\n",
              "      <td>338.0</td>\n",
              "      <td>981.7</td>\n",
              "      <td>6.8</td>\n",
              "      <td>195.0</td>\n",
              "      <td>538002777.0</td>\n",
              "    </tr>\n",
              "    <tr>\n",
              "      <th>1</th>\n",
              "      <td>344.0</td>\n",
              "      <td>339.0</td>\n",
              "      <td>981.7</td>\n",
              "      <td>6.8</td>\n",
              "      <td>195.0</td>\n",
              "      <td>538002777.0</td>\n",
              "    </tr>\n",
              "    <tr>\n",
              "      <th>2</th>\n",
              "      <td>344.0</td>\n",
              "      <td>340.0</td>\n",
              "      <td>981.7</td>\n",
              "      <td>6.8</td>\n",
              "      <td>195.0</td>\n",
              "      <td>538002777.0</td>\n",
              "    </tr>\n",
              "    <tr>\n",
              "      <th>3</th>\n",
              "      <td>345.0</td>\n",
              "      <td>340.0</td>\n",
              "      <td>981.7</td>\n",
              "      <td>6.8</td>\n",
              "      <td>195.0</td>\n",
              "      <td>538002777.0</td>\n",
              "    </tr>\n",
              "    <tr>\n",
              "      <th>4</th>\n",
              "      <td>345.0</td>\n",
              "      <td>341.0</td>\n",
              "      <td>981.7</td>\n",
              "      <td>6.8</td>\n",
              "      <td>195.0</td>\n",
              "      <td>538002777.0</td>\n",
              "    </tr>\n",
              "    <tr>\n",
              "      <th>...</th>\n",
              "      <td>...</td>\n",
              "      <td>...</td>\n",
              "      <td>...</td>\n",
              "      <td>...</td>\n",
              "      <td>...</td>\n",
              "      <td>...</td>\n",
              "    </tr>\n",
              "    <tr>\n",
              "      <th>23321</th>\n",
              "      <td>95.5</td>\n",
              "      <td>95.0</td>\n",
              "      <td>985.2</td>\n",
              "      <td>4.6</td>\n",
              "      <td>184.0</td>\n",
              "      <td>538090512.0</td>\n",
              "    </tr>\n",
              "    <tr>\n",
              "      <th>23322</th>\n",
              "      <td>95.5</td>\n",
              "      <td>95.0</td>\n",
              "      <td>985.2</td>\n",
              "      <td>4.6</td>\n",
              "      <td>184.0</td>\n",
              "      <td>538090512.0</td>\n",
              "    </tr>\n",
              "    <tr>\n",
              "      <th>23323</th>\n",
              "      <td>95.5</td>\n",
              "      <td>95.0</td>\n",
              "      <td>985.2</td>\n",
              "      <td>4.6</td>\n",
              "      <td>184.0</td>\n",
              "      <td>538090512.0</td>\n",
              "    </tr>\n",
              "    <tr>\n",
              "      <th>23324</th>\n",
              "      <td>95.4</td>\n",
              "      <td>95.0</td>\n",
              "      <td>985.2</td>\n",
              "      <td>4.6</td>\n",
              "      <td>184.0</td>\n",
              "      <td>538090512.0</td>\n",
              "    </tr>\n",
              "    <tr>\n",
              "      <th>23325</th>\n",
              "      <td>95.3</td>\n",
              "      <td>95.0</td>\n",
              "      <td>985.2</td>\n",
              "      <td>4.6</td>\n",
              "      <td>184.0</td>\n",
              "      <td>538090512.0</td>\n",
              "    </tr>\n",
              "  </tbody>\n",
              "</table>\n",
              "<p>18419 rows × 6 columns</p>\n",
              "</div>"
            ],
            "text/plain": [
              "         COG  Heading   pres  temp  Length         MMSI\n",
              "0      344.0    338.0  981.7   6.8   195.0  538002777.0\n",
              "1      344.0    339.0  981.7   6.8   195.0  538002777.0\n",
              "2      344.0    340.0  981.7   6.8   195.0  538002777.0\n",
              "3      345.0    340.0  981.7   6.8   195.0  538002777.0\n",
              "4      345.0    341.0  981.7   6.8   195.0  538002777.0\n",
              "...      ...      ...    ...   ...     ...          ...\n",
              "23321   95.5     95.0  985.2   4.6   184.0  538090512.0\n",
              "23322   95.5     95.0  985.2   4.6   184.0  538090512.0\n",
              "23323   95.5     95.0  985.2   4.6   184.0  538090512.0\n",
              "23324   95.4     95.0  985.2   4.6   184.0  538090512.0\n",
              "23325   95.3     95.0  985.2   4.6   184.0  538090512.0\n",
              "\n",
              "[18419 rows x 6 columns]"
            ]
          },
          "metadata": {
            "tags": []
          },
          "execution_count": 12
        }
      ]
    },
    {
      "cell_type": "markdown",
      "metadata": {
        "id": "MVP0Eozaj2it"
      },
      "source": [
        "Data Normalization"
      ]
    },
    {
      "cell_type": "code",
      "metadata": {
        "id": "jAOj1kRFji0t"
      },
      "source": [
        "from sklearn.preprocessing import StandardScaler\r\n",
        "\r\n",
        "# X['normLat'] = StandardScaler().fit_transform(X['Latitude'].values.reshape(-1,1))\r\n",
        "X['normCOG'] = StandardScaler().fit_transform(X['COG'].values.reshape(-1,1))\r\n",
        "X['normHeading'] = StandardScaler().fit_transform(X['Heading'].values.reshape(-1,1))\r\n",
        "X['normPres'] = StandardScaler().fit_transform(X['pres'].values.reshape(-1,1))\r\n",
        "X['normTemp'] = StandardScaler().fit_transform(X['temp'].values.reshape(-1,1))\r\n",
        "# X['normLength'] = StandardScaler().fit_transform(X['Length'].values.reshape(-1,1))\r\n",
        "# X['normMMSI'] = StandardScaler().fit_transform(X['MMSI'].values.reshape(-1,1))\r\n",
        "\r\n",
        "# X['normPrcp'] = StandardScaler().fit_transform(X['prcp'].values.reshape(-1,1))\r\n",
        "# X['normRhum'] = StandardScaler().fit_transform(X['rhum'].values.reshape(-1,1))\r\n",
        "\r\n",
        "X.drop(['Heading', 'COG', 'pres', 'temp'], axis=1, inplace=True)"
      ],
      "execution_count": 27,
      "outputs": []
    },
    {
      "cell_type": "markdown",
      "metadata": {
        "id": "jeNoKej2l8Pc"
      },
      "source": [
        "Spilt Testing And Training Data "
      ]
    },
    {
      "cell_type": "code",
      "metadata": {
        "colab": {
          "base_uri": "https://localhost:8080/"
        },
        "id": "0BZWchMKlrpG",
        "outputId": "5bba5f76-cc20-4a43-9453-d0165fb34cc9"
      },
      "source": [
        "from sklearn.model_selection import train_test_split\r\n",
        "\r\n",
        "x_train, x_test, y_train, y_test = train_test_split(X, y, test_size=0.15, random_state=4)\r\n",
        "\r\n",
        "print('Train set:', x_train.shape, y_train.shape)\r\n",
        "print('Test set:', x_test.shape, y_test.shape)"
      ],
      "execution_count": 28,
      "outputs": [
        {
          "output_type": "stream",
          "text": [
            "Train set: (15656, 4) (15656,)\n",
            "Test set: (2763, 4) (2763,)\n"
          ],
          "name": "stdout"
        }
      ]
    },
    {
      "cell_type": "markdown",
      "metadata": {
        "id": "-usoggCwmmH1"
      },
      "source": [
        "Fitting Model"
      ]
    },
    {
      "cell_type": "code",
      "metadata": {
        "id": "G_z40CFwmntW"
      },
      "source": [
        "from sklearn.svm import SVR\r\n",
        "\r\n",
        "regressor = SVR(gamma='scale', C=100000, epsilon=1, degree=3)"
      ],
      "execution_count": 29,
      "outputs": []
    },
    {
      "cell_type": "code",
      "metadata": {
        "id": "l5-vu9yj3bhS"
      },
      "source": [
        "from google.colab import drive\n",
        "drive.mount('/content/gdrive')\n",
        "model_save_name = 'aisclassifier.sav'\n",
        "path = F'/content/gdrive/My Drive/{model_save_name}'\n",
        "pickle.dump(regressor, open(path,'wb'))"
      ],
      "execution_count": null,
      "outputs": []
    },
    {
      "cell_type": "code",
      "metadata": {
        "id": "3rGcIoOZmwv2",
        "colab": {
          "base_uri": "https://localhost:8080/"
        },
        "outputId": "822a7b0e-343f-4e09-9f88-36bb9f2e5c0c"
      },
      "source": [
        "regressor.fit(x_train, y_train)"
      ],
      "execution_count": 30,
      "outputs": [
        {
          "output_type": "execute_result",
          "data": {
            "text/plain": [
              "SVR(C=100000, cache_size=200, coef0=0.0, degree=3, epsilon=1, gamma='scale',\n",
              "    kernel='rbf', max_iter=-1, shrinking=True, tol=0.001, verbose=False)"
            ]
          },
          "metadata": {
            "tags": []
          },
          "execution_count": 30
        }
      ]
    },
    {
      "cell_type": "code",
      "metadata": {
        "id": "fQV_X3Akn1We"
      },
      "source": [
        "yhat = regressor.predict(x_test)"
      ],
      "execution_count": 31,
      "outputs": []
    },
    {
      "cell_type": "code",
      "metadata": {
        "colab": {
          "base_uri": "https://localhost:8080/"
        },
        "id": "2FwQYGn8oQu-",
        "outputId": "797e0f3e-1817-4fc0-a118-23a94552f336"
      },
      "source": [
        "from sklearn.metrics import r2_score\r\n",
        "print(round(r2_score(y_test, yhat),2))"
      ],
      "execution_count": 32,
      "outputs": [
        {
          "output_type": "stream",
          "text": [
            "0.85\n"
          ],
          "name": "stdout"
        }
      ]
    },
    {
      "cell_type": "code",
      "metadata": {
        "colab": {
          "base_uri": "https://localhost:8080/",
          "height": 419
        },
        "id": "Ef-HP8AHoUte",
        "outputId": "bb594aeb-61ca-4869-8edd-1eac52a21817"
      },
      "source": [
        "# make df of predicted & real values\r\n",
        "predicted_vs_real = pd.DataFrame({'Actual': y_test,\r\n",
        "                                 'Predicted': yhat})\r\n",
        "\r\n",
        "predicted_vs_real"
      ],
      "execution_count": 33,
      "outputs": [
        {
          "output_type": "execute_result",
          "data": {
            "text/html": [
              "<div>\n",
              "<style scoped>\n",
              "    .dataframe tbody tr th:only-of-type {\n",
              "        vertical-align: middle;\n",
              "    }\n",
              "\n",
              "    .dataframe tbody tr th {\n",
              "        vertical-align: top;\n",
              "    }\n",
              "\n",
              "    .dataframe thead th {\n",
              "        text-align: right;\n",
              "    }\n",
              "</style>\n",
              "<table border=\"1\" class=\"dataframe\">\n",
              "  <thead>\n",
              "    <tr style=\"text-align: right;\">\n",
              "      <th></th>\n",
              "      <th>Actual</th>\n",
              "      <th>Predicted</th>\n",
              "    </tr>\n",
              "  </thead>\n",
              "  <tbody>\n",
              "    <tr>\n",
              "      <th>0</th>\n",
              "      <td>13.2</td>\n",
              "      <td>12.978771</td>\n",
              "    </tr>\n",
              "    <tr>\n",
              "      <th>1</th>\n",
              "      <td>9.3</td>\n",
              "      <td>8.666601</td>\n",
              "    </tr>\n",
              "    <tr>\n",
              "      <th>2</th>\n",
              "      <td>13.0</td>\n",
              "      <td>12.605212</td>\n",
              "    </tr>\n",
              "    <tr>\n",
              "      <th>3</th>\n",
              "      <td>13.1</td>\n",
              "      <td>12.684059</td>\n",
              "    </tr>\n",
              "    <tr>\n",
              "      <th>4</th>\n",
              "      <td>11.4</td>\n",
              "      <td>11.405518</td>\n",
              "    </tr>\n",
              "    <tr>\n",
              "      <th>...</th>\n",
              "      <td>...</td>\n",
              "      <td>...</td>\n",
              "    </tr>\n",
              "    <tr>\n",
              "      <th>2758</th>\n",
              "      <td>13.6</td>\n",
              "      <td>14.545217</td>\n",
              "    </tr>\n",
              "    <tr>\n",
              "      <th>2759</th>\n",
              "      <td>11.4</td>\n",
              "      <td>11.411541</td>\n",
              "    </tr>\n",
              "    <tr>\n",
              "      <th>2760</th>\n",
              "      <td>10.9</td>\n",
              "      <td>10.752105</td>\n",
              "    </tr>\n",
              "    <tr>\n",
              "      <th>2761</th>\n",
              "      <td>13.8</td>\n",
              "      <td>14.067557</td>\n",
              "    </tr>\n",
              "    <tr>\n",
              "      <th>2762</th>\n",
              "      <td>10.7</td>\n",
              "      <td>11.162471</td>\n",
              "    </tr>\n",
              "  </tbody>\n",
              "</table>\n",
              "<p>2763 rows × 2 columns</p>\n",
              "</div>"
            ],
            "text/plain": [
              "      Actual  Predicted\n",
              "0       13.2  12.978771\n",
              "1        9.3   8.666601\n",
              "2       13.0  12.605212\n",
              "3       13.1  12.684059\n",
              "4       11.4  11.405518\n",
              "...      ...        ...\n",
              "2758    13.6  14.545217\n",
              "2759    11.4  11.411541\n",
              "2760    10.9  10.752105\n",
              "2761    13.8  14.067557\n",
              "2762    10.7  11.162471\n",
              "\n",
              "[2763 rows x 2 columns]"
            ]
          },
          "metadata": {
            "tags": []
          },
          "execution_count": 33
        }
      ]
    },
    {
      "cell_type": "code",
      "metadata": {
        "id": "bELZmYcJomle",
        "colab": {
          "base_uri": "https://localhost:8080/",
          "height": 700
        },
        "outputId": "e1c763d6-9d06-45b9-fa3f-b88516ebe562"
      },
      "source": [
        "import matplotlib.pyplot as plt\n",
        "plt.figure(figsize=(16,12))\n",
        "labels = ['Original Data', 'Predicted Data']\n",
        "plt.plot(y_test, color = 'green', label = 'Original Data')\n",
        "plt.plot(yhat, color = 'blue', label = 'Predicted Data')\n",
        "plt.legend(labels)\n",
        "plt.show()"
      ],
      "execution_count": 34,
      "outputs": [
        {
          "output_type": "display_data",
          "data": {
            "image/png": "[encoded data removed]",
            "text/plain": [
              "<Figure size 1152x864 with 1 Axes>"
            ]
          },
          "metadata": {
            "tags": [],
            "needs_background": "light"
          }
        }
      ]
    },
    {
      "cell_type": "code",
      "metadata": {
        "colab": {
          "base_uri": "https://localhost:8080/"
        },
        "id": "hVtEFrfECrmc",
        "outputId": "c5e3272d-5844-4a21-d53a-1e106b70ff0f"
      },
      "source": [
        "import json\n",
        "predictedData = [y_test.tolist(), yhat.tolist()]\n",
        "# predictedData\n",
        "k = json.dumps(predictedData)\n"
      ],
      "execution_count": 44,
      "outputs": [
        {
          "output_type": "stream",
          "text": [
            "[[13.2, 9.3, 13.0, 13.1, 11.4, 9.6, 8.7, 11.7, 13.2, 10.2, 10.9, 10.7, 9.9, 11.4, 8.3, 11.1, 12.0, 11.7, 12.1, 12.4, 11.1, 9.4, 9.7, 11.7, 10.0, 8.9, 10.9, 10.7, 9.7, 10.9, 13.0, 10.6, 11.7, 9.8, 9.3, 10.0, 14.0, 9.2, 11.1, 9.8, 11.7, 10.5, 9.7, 9.9, 9.0, 10.9, 13.1, 14.0, 13.2, 12.0, 10.6, 9.7, 11.3, 8.5, 10.5, 11.6, 9.8, 11.5, 11.1, 10.9, 12.2, 9.3, 9.4, 13.2, 11.6, 9.9, 11.9, 9.9, 9.7, 15.1, 13.9, 10.0, 7.9, 9.1, 12.5, 10.7, 12.2, 11.6, 12.7, 8.9, 13.7, 9.3, 10.9, 11.5, 10.8, 11.6, 12.9, 11.6, 10.9, 11.6, 14.7, 10.4, 15.0, 14.5, 8.9, 13.1, 11.6, 11.6, 12.6, 12.0, 9.8, 11.7, 10.9, 13.1, 12.7, 11.7, 11.0, 10.9, 11.3, 9.5, 14.0, 10.8, 13.6, 12.4, 11.1, 9.1, 10.5, 10.3, 12.6, 11.6, 10.0, 10.0, 9.9, 11.2, 11.0, 10.4, 9.4, 12.5, 11.2, 12.0, 13.1, 13.6, 11.8, 10.6, 14.4, 9.5, 14.9, 8.4, 11.4, 13.0, 13.0, 10.9, 9.6, 11.2, 11.2, 12.4, 7.9, 11.2, 9.3, 11.7, 10.9, 10.2, 9.9, 10.8, 11.9, 13.3, 10.1, 11.1, 12.5, 12.3, 14.1, 11.3, 12.4, 8.7, 9.8, 10.5, 14.6, 11.2, 9.7, 11.1, 10.9, 12.9, 12.5, 11.2, 10.7, 10.0, 14.0, 10.4, 11.7, 9.7, 10.8, 10.0, 14.2, 10.4, 9.9, 10.3, 10.9, 10.3, 11.2, 10.5, 12.3, 15.0, 10.7, 14.5, 12.3, 13.6, 10.7, 8.6, 12.4, 14.1, 11.0, 12.7, 12.2, 11.8, 10.0, 11.0, 12.4, 9.7, 9.9, 10.6, 9.7, 10.3, 12.2, 9.3, 10.2, 12.3, 8.6, 12.2, 10.3, 11.1, 10.2, 13.0, 12.9, 9.8, 11.0, 11.7, 14.5, 12.5, 11.7, 8.5, 11.7, 14.1, 9.4, 13.0, 12.4, 13.6, 9.7, 10.9, 13.3, 10.6, 13.6, 11.2, 10.8, 10.7, 13.9, 14.0, 11.4, 10.2, 13.0, 14.2, 10.5, 11.7, 10.2, 10.9, 11.8, 9.7, 9.4, 12.1, 11.1, 9.8, 12.0, 10.3, 11.6, 8.7, 11.6, 9.2, 9.8, 10.6, 10.6, 11.7, 10.5, 8.8, 13.1, 12.9, 10.9, 13.0, 9.4, 13.6, 12.9, 13.5, 13.6, 13.0, 9.3, 11.6, 9.0, 11.8, 13.1, 9.4, 10.6, 12.4, 11.3, 10.9, 14.7, 10.0, 11.5, 9.7, 11.7, 8.0, 11.2, 9.9, 10.2, 14.7, 14.3, 9.3, 13.8, 8.5, 14.7, 7.9, 10.8, 12.1, 9.6, 9.1, 9.3, 9.2, 14.2, 10.5, 11.0, 10.3, 11.6, 13.1, 13.0, 11.0, 11.7, 10.0, 9.8, 11.7, 11.4, 10.0, 13.2, 11.0, 9.4, 11.5, 12.9, 11.6, 10.5, 9.2, 12.7, 11.5, 10.5, 13.2, 9.4, 11.7, 8.8, 10.0, 11.2, 12.4, 11.1, 9.3, 12.1, 14.0, 9.3, 9.9, 10.6, 11.1, 14.8, 10.7, 11.7, 13.0, 11.4, 9.4, 11.7, 14.5, 11.4, 11.6, 14.0, 14.6, 11.8, 12.8, 11.3, 10.9, 8.6, 11.7, 11.2, 13.0, 11.0, 12.5, 10.6, 13.2, 9.4, 14.1, 11.1, 13.0, 9.9, 10.4, 12.2, 11.0, 11.2, 14.6, 11.2, 10.6, 10.9, 12.4, 14.0, 10.4, 9.1, 11.2, 10.8, 11.2, 11.1, 11.9, 10.9, 10.5, 13.0, 12.4, 11.0, 12.3, 13.6, 12.3, 11.7, 11.7, 10.8, 9.6, 11.6, 11.1, 11.8, 12.9, 11.1, 13.0, 11.3, 10.4, 11.1, 11.7, 13.4, 10.8, 11.8, 11.7, 10.2, 10.7, 10.7, 11.0, 11.4, 8.7, 11.0, 11.8, 9.5, 9.9, 9.7, 11.3, 11.1, 11.7, 11.1, 11.2, 10.9, 15.1, 10.2, 9.8, 14.1, 11.7, 14.5, 11.7, 13.4, 11.3, 8.9, 11.5, 11.8, 11.7, 11.3, 12.3, 12.9, 11.8, 11.6, 10.7, 13.7, 11.1, 10.4, 10.6, 11.6, 12.4, 11.7, 11.0, 6.9, 10.4, 9.8, 10.1, 11.0, 12.8, 15.0, 10.5, 10.1, 11.3, 11.0, 11.8, 11.9, 10.9, 14.5, 11.7, 12.8, 12.5, 8.7, 11.0, 10.9, 10.9, 14.8, 11.3, 11.8, 11.5, 13.6, 9.4, 13.0, 11.6, 11.3, 10.7, 11.7, 10.1, 12.3, 13.6, 10.3, 9.8, 11.5, 9.6, 14.0, 9.4, 11.5, 10.0, 11.1, 11.4, 11.2, 12.3, 11.5, 9.7, 12.6, 13.6, 11.2, 14.5, 10.8, 12.2, 11.4, 12.6, 9.7, 10.1, 12.8, 14.8, 5.5, 11.3, 11.3, 12.8, 10.8, 9.5, 10.6, 11.7, 8.6, 11.4, 11.6, 11.0, 12.1, 10.3, 9.1, 12.3, 10.3, 10.7, 11.6, 12.7, 14.6, 10.2, 11.6, 13.6, 11.2, 12.3, 11.7, 12.0, 9.6, 8.6, 10.8, 13.0, 13.4, 10.9, 12.5, 11.1, 9.0, 9.8, 13.4, 13.8, 8.1, 10.5, 10.7, 14.3, 12.9, 13.5, 4.6, 11.3, 10.7, 10.6, 11.2, 12.1, 12.9, 10.2, 12.7, 13.0, 12.7, 11.7, 11.4, 14.3, 10.9, 11.7, 11.7, 11.7, 12.7, 10.8, 12.6, 9.2, 11.6, 10.7, 13.1, 12.9, 11.6, 11.2, 9.6, 10.1, 15.1, 12.9, 12.6, 10.0, 10.7, 11.1, 11.6, 10.2, 11.0, 11.5, 11.2, 10.3, 11.3, 14.0, 10.0, 12.0, 12.6, 11.9, 12.6, 9.5, 12.8, 11.0, 9.1, 11.3, 13.8, 10.8, 14.7, 14.1, 11.8, 11.0, 10.8, 11.8, 12.1, 9.0, 12.3, 9.9, 11.2, 12.7, 13.4, 10.8, 9.7, 9.9, 13.1, 11.5, 10.8, 10.9, 11.3, 9.8, 10.7, 11.4, 11.5, 11.6, 10.1, 10.3, 11.0, 9.8, 8.4, 11.1, 11.0, 11.9, 11.1, 10.9, 12.0, 13.3, 11.3, 11.7, 11.3, 11.7, 12.7, 11.3, 8.5, 11.4, 11.3, 13.6, 12.3, 10.5, 9.3, 11.1, 8.5, 14.2, 10.9, 11.2, 13.3, 13.7, 12.3, 9.4, 15.2, 13.1, 10.4, 13.3, 11.8, 12.9, 11.6, 10.6, 14.0, 11.1, 9.6, 11.0, 15.3, 9.6, 9.1, 11.4, 10.1, 14.1, 10.7, 11.1, 12.3, 11.9, 11.0, 11.8, 11.1, 14.1, 9.7, 9.5, 10.0, 13.1, 12.1, 10.6, 10.8, 10.7, 8.5, 13.6, 11.7, 10.1, 10.3, 10.9, 13.4, 13.0, 9.7, 11.0, 11.0, 14.3, 12.9, 13.0, 10.8, 9.4, 10.2, 13.0, 11.3, 11.7, 10.7, 12.9, 9.8, 9.1, 11.3, 9.8, 10.4, 10.7, 12.7, 10.0, 14.1, 12.9, 11.1, 10.8, 11.6, 12.9, 10.2, 11.1, 9.9, 10.3, 6.4, 9.0, 11.1, 8.4, 10.9, 14.5, 12.9, 12.3, 12.7, 8.4, 4.5, 10.7, 13.6, 14.1, 10.6, 11.2, 11.7, 12.3, 7.2, 12.0, 12.6, 12.3, 11.2, 14.2, 9.2, 9.7, 9.6, 11.4, 12.6, 12.3, 9.7, 11.0, 12.9, 10.1, 11.3, 10.9, 12.5, 10.7, 11.7, 13.1, 9.5, 11.6, 13.1, 11.5, 11.6, 11.4, 10.6, 7.2, 13.3, 9.3, 10.2, 10.9, 12.3, 10.4, 11.7, 10.9, 11.3, 9.8, 11.4, 14.1, 9.0, 11.7, 8.5, 10.4, 11.7, 9.6, 11.2, 13.0, 15.1, 11.8, 11.4, 12.5, 13.4, 11.8, 10.1, 11.0, 11.2, 11.0, 10.5, 10.9, 9.7, 10.9, 14.4, 9.2, 10.0, 12.1, 14.2, 13.3, 10.6, 13.2, 13.2, 9.4, 11.0, 10.5, 10.8, 9.9, 12.0, 12.3, 11.7, 8.7, 11.3, 10.1, 7.8, 11.6, 13.8, 11.2, 10.1, 8.9, 11.7, 9.4, 10.4, 9.8, 14.7, 9.4, 10.0, 13.1, 10.9, 10.6, 11.8, 8.5, 14.1, 12.7, 9.3, 12.7, 11.6, 12.5, 11.0, 12.3, 11.6, 10.2, 11.7, 10.8, 10.3, 10.2, 11.6, 12.1, 11.5, 10.3, 12.9, 13.5, 12.1, 15.3, 13.0, 12.6, 9.6, 9.9, 10.3, 13.7, 12.0, 11.7, 13.6, 9.9, 10.1, 11.5, 10.4, 9.8, 14.5, 11.7, 12.3, 10.9, 11.2, 9.1, 10.6, 11.7, 9.7, 9.6, 11.7, 11.7, 11.0, 13.6, 10.8, 14.1, 9.3, 10.0, 11.8, 12.8, 10.9, 13.2, 10.1, 12.6, 9.8, 11.9, 9.5, 11.2, 10.6, 13.1, 12.5, 12.7, 11.6, 14.5, 13.2, 10.7, 10.9, 10.4, 11.4, 11.4, 10.7, 11.2, 11.2, 10.6, 11.1, 10.0, 10.4, 12.5, 13.6, 11.6, 10.2, 8.7, 13.0, 10.5, 13.0, 11.4, 11.3, 11.6, 12.0, 9.4, 9.0, 13.6, 11.7, 9.2, 10.7, 9.8, 10.2, 11.1, 14.7, 12.1, 14.1, 9.8, 10.8, 11.6, 14.3, 10.6, 9.8, 9.7, 14.3, 11.0, 9.3, 13.4, 11.7, 12.1, 12.3, 10.3, 10.4, 13.1, 12.6, 11.6, 11.5, 14.0, 9.3, 10.8, 13.1, 11.0, 11.7, 9.2, 9.9, 11.3, 10.0, 13.1, 11.8, 11.7, 11.3, 13.4, 11.0, 10.9, 13.2, 11.6, 10.7, 11.9, 11.6, 10.1, 9.6, 9.8, 11.7, 10.5, 13.2, 13.6, 11.6, 12.3, 13.0, 13.0, 10.9, 11.0, 11.0, 11.2, 8.8, 9.8, 12.2, 11.7, 13.2, 9.7, 11.5, 8.2, 14.7, 10.8, 12.3, 10.0, 12.7, 11.1, 10.6, 10.0, 11.6, 12.6, 11.0, 14.5, 11.8, 11.8, 12.7, 9.6, 11.7, 11.2, 8.6, 13.6, 11.3, 7.0, 10.6, 9.3, 10.9, 9.1, 10.2, 14.1, 10.4, 9.3, 15.1, 12.0, 8.7, 10.0, 12.8, 15.1, 10.8, 12.8, 11.9, 13.6, 13.1, 9.7, 13.0, 11.3, 11.0, 10.7, 12.7, 13.1, 11.7, 11.6, 14.0, 11.7, 10.4, 11.0, 10.3, 10.7, 10.4, 13.4, 11.2, 14.8, 13.1, 12.7, 10.5, 9.7, 13.4, 12.3, 12.7, 11.2, 12.2, 8.7, 11.0, 10.8, 10.2, 11.8, 10.7, 11.9, 10.6, 10.9, 10.8, 9.8, 10.1, 13.7, 10.7, 11.6, 11.1, 9.2, 9.8, 12.7, 11.8, 11.0, 9.5, 9.8, 14.8, 11.7, 9.9, 11.2, 12.5, 11.7, 11.6, 10.6, 10.4, 9.4, 13.2, 12.3, 9.5, 11.3, 9.4, 9.4, 11.1, 12.9, 11.8, 10.4, 9.8, 14.7, 14.2, 12.3, 12.3, 14.8, 9.6, 12.7, 10.8, 10.7, 13.5, 12.3, 13.2, 10.6, 13.1, 10.2, 13.3, 9.1, 11.6, 10.4, 10.0, 14.1, 11.6, 9.8, 11.6, 11.7, 13.2, 13.0, 12.6, 13.2, 9.0, 10.9, 13.6, 9.2, 12.7, 13.8, 9.4, 11.1, 13.1, 11.0, 11.1, 9.6, 10.8, 9.4, 13.0, 13.1, 9.6, 9.9, 12.4, 9.0, 11.6, 9.8, 10.6, 11.4, 10.7, 10.8, 10.1, 10.0, 8.9, 10.1, 10.4, 11.7, 10.4, 11.0, 8.6, 11.1, 8.3, 4.7, 10.1, 9.7, 14.0, 11.4, 14.6, 10.0, 10.6, 9.2, 10.8, 10.3, 12.7, 9.9, 10.4, 9.3, 11.5, 11.6, 13.5, 9.7, 9.7, 11.5, 13.6, 11.6, 14.3, 9.7, 14.4, 11.4, 11.0, 8.7, 14.4, 9.2, 9.4, 13.0, 11.0, 12.9, 10.9, 8.6, 13.0, 9.7, 11.0, 12.5, 10.0, 10.4, 11.4, 10.9, 11.5, 12.3, 11.4, 9.5, 11.6, 14.1, 10.0, 12.7, 13.0, 12.6, 9.9, 11.4, 13.4, 11.4, 15.0, 10.9, 11.2, 11.3, 11.2, 13.2, 9.8, 11.7, 11.2, 13.1, 12.0, 10.3, 11.7, 9.9, 11.6, 11.8, 11.1, 11.3, 10.1, 10.1, 8.6, 11.2, 10.9, 10.0, 10.0, 13.6, 11.7, 11.0, 12.8, 11.2, 10.9, 11.1, 12.5, 12.2, 11.7, 9.4, 10.9, 9.7, 12.8, 10.6, 15.1, 13.0, 13.5, 10.6, 10.8, 11.0, 11.0, 11.0, 13.5, 15.3, 13.0, 9.2, 11.9, 8.6, 11.5, 10.0, 9.2, 8.5, 10.0, 11.2, 9.6, 11.2, 12.9, 10.2, 10.9, 11.0, 14.1, 14.4, 11.2, 12.0, 14.8, 10.8, 12.2, 11.8, 10.8, 10.2, 9.8, 9.9, 12.3, 14.1, 10.0, 13.0, 8.9, 10.5, 10.8, 8.8, 10.7, 13.4, 11.7, 9.7, 11.3, 12.7, 12.1, 11.9, 11.9, 4.6, 10.2, 10.0, 12.7, 10.6, 11.0, 10.1, 10.8, 10.9, 11.5, 14.0, 10.9, 8.5, 14.1, 10.7, 9.3, 14.4, 9.4, 11.7, 10.6, 11.3, 10.8, 10.2, 8.9, 10.9, 10.4, 10.2, 12.8, 12.9, 11.7, 11.2, 13.1, 10.9, 9.4, 11.7, 13.6, 11.6, 10.2, 12.1, 10.2, 14.0, 14.7, 10.7, 10.6, 11.1, 9.8, 10.6, 13.8, 11.5, 11.8, 11.0, 14.7, 11.0, 11.0, 12.7, 10.9, 8.8, 10.5, 13.0, 12.9, 13.0, 11.0, 12.3, 11.5, 10.3, 10.3, 13.0, 10.9, 9.9, 11.8, 10.4, 14.0, 11.0, 10.3, 10.6, 11.8, 11.2, 11.8, 13.1, 11.6, 11.5, 12.3, 11.0, 12.8, 15.3, 14.9, 11.0, 11.8, 14.7, 10.7, 12.6, 11.1, 10.8, 9.7, 13.5, 11.7, 11.1, 13.9, 11.1, 12.0, 11.6, 10.4, 11.2, 7.4, 12.8, 11.2, 11.7, 11.5, 14.1, 14.0, 10.0, 14.1, 13.0, 13.6, 11.6, 9.3, 13.8, 10.7, 11.0, 13.5, 10.6, 10.4, 11.5, 8.4, 9.3, 5.3, 10.3, 12.3, 9.9, 11.1, 11.1, 10.6, 10.6, 10.6, 12.4, 9.4, 9.9, 11.1, 11.0, 14.6, 12.3, 11.6, 15.3, 12.3, 12.7, 13.0, 11.3, 11.0, 11.7, 11.7, 10.9, 13.9, 11.0, 10.9, 14.0, 10.3, 10.2, 11.4, 13.4, 11.0, 13.3, 11.6, 11.7, 9.9, 14.7, 10.6, 9.6, 12.8, 11.1, 11.7, 11.0, 10.1, 14.6, 10.9, 13.9, 14.2, 12.6, 12.1, 11.7, 11.8, 12.8, 11.9, 11.9, 10.1, 10.3, 11.1, 11.7, 11.2, 13.0, 9.7, 13.6, 10.5, 12.8, 11.1, 13.2, 10.2, 9.4, 12.4, 11.7, 11.0, 10.1, 12.1, 12.8, 9.3, 9.7, 10.8, 13.1, 9.2, 10.6, 11.5, 11.3, 10.4, 9.5, 10.3, 13.0, 9.3, 9.3, 11.1, 11.0, 8.4, 10.9, 11.3, 11.4, 11.8, 11.1, 10.8, 11.1, 13.5, 11.8, 14.0, 10.6, 11.0, 10.4, 11.6, 11.4, 8.9, 13.1, 11.1, 12.7, 13.6, 11.3, 12.1, 11.0, 11.6, 14.4, 10.8, 10.5, 11.9, 11.2, 10.7, 10.1, 11.6, 9.2, 9.4, 11.3, 9.4, 8.9, 9.4, 11.7, 11.1, 11.7, 11.9, 9.3, 11.2, 13.3, 10.5, 11.2, 12.9, 11.0, 12.9, 13.8, 11.7, 13.6, 13.1, 12.4, 11.6, 11.7, 13.1, 9.1, 10.2, 10.5, 9.0, 13.9, 9.2, 11.7, 11.0, 10.4, 11.2, 10.5, 10.9, 11.0, 13.9, 11.3, 12.8, 13.1, 11.6, 14.3, 12.8, 13.0, 10.2, 14.6, 11.4, 10.1, 10.0, 11.8, 13.4, 12.8, 10.9, 11.8, 11.1, 9.4, 12.6, 10.1, 14.8, 9.4, 12.2, 9.3, 13.0, 14.0, 12.1, 11.8, 10.1, 9.1, 9.6, 11.3, 10.5, 11.0, 12.6, 10.7, 10.8, 15.1, 13.1, 14.7, 10.0, 12.9, 10.8, 11.7, 10.5, 9.2, 9.9, 11.5, 12.4, 10.5, 11.4, 11.0, 15.1, 14.7, 12.8, 11.2, 14.0, 13.0, 9.8, 12.2, 13.0, 12.0, 9.9, 10.1, 13.8, 12.4, 8.8, 14.0, 10.7, 10.8, 11.2, 10.5, 14.7, 14.4, 10.7, 10.5, 10.5, 11.3, 12.2, 11.7, 11.7, 12.3, 11.6, 9.4, 14.4, 10.6, 8.4, 9.7, 13.0, 10.5, 14.8, 10.8, 11.3, 14.5, 11.8, 11.0, 10.9, 11.0, 10.1, 13.9, 10.6, 15.2, 11.7, 13.3, 9.4, 10.5, 11.0, 11.7, 10.1, 11.2, 11.7, 9.8, 11.0, 10.4, 10.2, 11.3, 11.6, 8.3, 14.8, 13.1, 13.2, 11.1, 11.6, 12.1, 14.1, 13.1, 10.6, 10.0, 9.9, 13.0, 13.5, 14.1, 14.0, 14.7, 10.3, 8.8, 13.1, 10.8, 10.6, 11.9, 13.6, 10.6, 10.9, 12.3, 9.2, 11.1, 10.0, 11.6, 8.6, 12.4, 12.9, 12.6, 9.7, 13.1, 11.7, 11.5, 14.5, 9.5, 11.6, 10.5, 11.0, 9.2, 11.1, 10.2, 9.4, 10.2, 13.8, 14.4, 13.6, 10.6, 9.2, 13.8, 11.1, 10.7, 13.8, 12.7, 13.5, 8.9, 9.2, 8.8, 10.2, 11.2, 13.2, 10.7, 10.9, 8.9, 9.8, 11.0, 12.8, 11.3, 11.5, 12.8, 10.8, 11.7, 13.5, 12.1, 9.0, 13.6, 8.9, 11.0, 8.8, 10.5, 10.0, 13.0, 14.1, 9.9, 10.8, 12.6, 9.2, 11.5, 11.0, 11.1, 11.1, 11.8, 12.2, 9.5, 11.4, 11.0, 11.1, 12.9, 11.7, 8.1, 11.0, 12.8, 13.0, 10.1, 9.5, 10.2, 11.1, 8.4, 10.3, 11.0, 10.2, 13.0, 11.6, 9.2, 11.3, 10.2, 9.5, 11.7, 9.4, 10.9, 12.7, 11.8, 14.1, 14.5, 9.9, 11.3, 12.5, 10.1, 9.9, 9.3, 9.7, 10.1, 12.3, 14.0, 9.8, 11.0, 11.0, 10.0, 10.1, 10.2, 11.0, 10.2, 9.1, 8.5, 11.0, 11.0, 12.4, 8.6, 11.7, 11.2, 10.9, 13.5, 12.6, 11.7, 10.9, 13.4, 10.8, 9.3, 11.6, 10.7, 11.7, 14.1, 9.8, 11.2, 14.7, 12.0, 9.0, 13.5, 9.1, 9.3, 10.5, 11.4, 14.0, 9.1, 9.2, 11.6, 11.5, 10.6, 11.6, 10.6, 10.0, 12.4, 10.3, 11.3, 8.7, 11.3, 11.7, 11.3, 12.4, 11.0, 11.7, 14.4, 15.2, 11.6, 8.6, 15.1, 14.8, 11.6, 13.3, 11.6, 11.7, 9.4, 10.3, 10.2, 8.9, 11.2, 14.7, 9.9, 12.7, 8.8, 11.0, 12.3, 12.4, 9.7, 13.0, 13.8, 11.4, 15.3, 10.6, 11.3, 10.7, 10.9, 10.2, 10.1, 10.3, 14.4, 11.5, 11.3, 15.2, 11.6, 13.7, 10.0, 11.2, 14.2, 10.0, 11.4, 13.8, 15.2, 9.8, 11.0, 10.8, 11.2, 12.3, 11.6, 9.4, 9.7, 13.9, 14.1, 11.6, 9.6, 12.9, 11.7, 12.6, 10.2, 7.8, 11.1, 10.1, 14.0, 11.0, 10.5, 12.0, 10.4, 13.1, 12.1, 11.4, 10.7, 10.5, 12.5, 9.6, 14.8, 9.8, 10.5, 11.3, 14.0, 10.6, 10.3, 15.0, 10.8, 9.9, 12.9, 14.8, 12.8, 11.6, 9.2, 10.0, 7.8, 10.5, 12.0, 11.1, 11.7, 10.1, 11.7, 9.8, 9.9, 4.3, 9.4, 12.6, 10.8, 10.9, 10.2, 9.2, 13.2, 11.6, 9.9, 12.6, 9.9, 9.1, 10.8, 12.6, 9.9, 11.7, 11.2, 10.2, 13.1, 13.6, 14.1, 10.0, 9.4, 9.7, 9.9, 8.7, 10.2, 10.0, 10.7, 10.0, 8.4, 14.0, 13.0, 11.4, 12.3, 10.0, 11.1, 10.0, 9.2, 14.8, 9.9, 8.5, 11.2, 12.1, 14.5, 14.1, 11.5, 12.3, 12.7, 11.7, 11.2, 9.8, 13.4, 11.5, 10.3, 12.3, 11.6, 11.3, 11.7, 14.7, 10.2, 11.4, 13.9, 10.6, 5.9, 11.6, 14.4, 10.6, 9.7, 9.1, 14.1, 13.7, 11.1, 13.2, 9.8, 13.9, 10.2, 12.4, 9.3, 10.8, 11.4, 10.1, 9.7, 8.2, 13.1, 11.8, 9.1, 10.7, 11.3, 11.3, 12.8, 10.0, 14.5, 12.0, 10.7, 10.7, 13.2, 10.2, 10.7, 15.1, 12.3, 9.3, 11.6, 10.1, 12.1, 11.5, 14.8, 12.1, 11.0, 13.2, 13.0, 8.5, 12.1, 13.4, 13.0, 9.9, 12.1, 14.7, 11.6, 7.2, 10.1, 9.7, 9.5, 11.8, 13.0, 11.3, 11.2, 12.0, 10.8, 11.4, 12.3, 11.7, 9.7, 10.7, 10.3, 13.3, 4.9, 13.9, 11.2, 10.1, 11.4, 9.6, 10.9, 14.1, 9.4, 12.5, 14.6, 10.6, 11.8, 8.5, 10.7, 9.4, 12.9, 11.7, 8.7, 14.0, 10.0, 13.0, 12.7, 10.4, 13.3, 8.6, 12.5, 8.5, 10.5, 14.1, 10.9, 11.3, 11.4, 14.5, 11.3, 9.7, 7.9, 10.6, 9.8, 11.7, 8.4, 11.5, 13.2, 10.0, 11.2, 11.5, 12.9, 10.2, 12.9, 14.5, 13.4, 9.6, 11.6, 8.7, 11.2, 11.1, 10.9, 10.1, 10.9, 13.3, 13.6, 12.4, 11.1, 9.4, 13.2, 6.5, 9.6, 11.1, 11.4, 12.9, 9.8, 9.0, 10.6, 15.0, 14.4, 13.1, 11.1, 9.4, 11.4, 9.1, 10.6, 11.0, 10.0, 13.5, 12.5, 13.3, 14.1, 11.3, 13.1, 10.8, 10.1, 9.6, 10.3, 11.9, 14.2, 11.4, 9.3, 11.2, 8.2, 9.8, 11.7, 10.3, 13.4, 10.4, 10.0, 12.6, 14.7, 12.6, 14.1, 12.4, 14.1, 8.9, 10.3, 11.3, 10.5, 9.3, 13.2, 11.2, 11.7, 9.7, 13.3, 13.0, 10.5, 10.7, 11.1, 11.7, 13.5, 10.9, 11.7, 11.7, 10.5, 11.2, 9.8, 11.7, 14.0, 14.0, 11.6, 10.6, 13.4, 9.3, 11.9, 14.2, 14.0, 9.2, 11.3, 12.3, 13.0, 10.6, 8.5, 11.6, 14.1, 11.5, 9.4, 10.9, 8.5, 8.5, 10.9, 11.5, 11.0, 8.6, 10.0, 10.0, 9.9, 10.7, 11.8, 9.8, 14.1, 14.8, 10.0, 13.1, 11.4, 10.1, 10.3, 11.9, 10.4, 11.6, 14.1, 13.6, 11.1, 11.1, 12.2, 9.7, 13.4, 10.6, 11.0, 11.0, 11.1, 13.1, 14.8, 13.4, 10.0, 10.9, 12.0, 10.0, 10.3, 11.1, 10.7, 12.8, 12.3, 11.6, 10.4, 9.4, 9.3, 10.1, 10.5, 9.1, 10.4, 11.6, 10.9, 14.7, 11.6, 9.4, 12.2, 11.0, 10.7, 13.1, 13.2, 9.8, 10.2, 12.5, 9.3, 11.2, 9.5, 10.5, 12.8, 11.7, 10.3, 10.5, 11.7, 10.3, 9.8, 10.6, 10.1, 13.1, 9.5, 11.0, 10.9, 11.3, 11.4, 12.6, 11.0, 11.2, 13.3, 12.7, 9.9, 10.2, 10.1, 9.7, 10.9, 11.2, 9.3, 13.0, 9.6, 15.1, 8.5, 12.9, 14.5, 12.8, 11.6, 11.0, 14.2, 10.0, 9.4, 10.5, 11.7, 12.0, 13.1, 11.5, 15.0, 7.7, 13.4, 13.5, 12.7, 10.0, 10.9, 14.0, 9.2, 10.2, 11.9, 15.0, 11.0, 11.8, 14.6, 10.1, 10.7, 10.7, 11.7, 15.1, 9.0, 10.2, 11.2, 10.9, 8.7, 11.8, 10.0, 12.1, 10.1, 12.3, 11.1, 9.3, 12.3, 13.1, 11.0, 9.4, 12.9, 10.2, 13.2, 11.2, 13.0, 13.6, 10.6, 13.6, 9.6, 13.1, 9.6, 13.3, 14.5, 9.8, 10.0, 12.1, 13.4, 11.0, 10.6, 10.9, 11.0, 9.1, 11.0, 10.0, 12.8, 10.1, 12.4, 10.3, 10.9, 13.2, 10.9, 10.8, 12.1, 12.8, 12.9, 9.1, 14.1, 9.9, 8.9, 9.7, 10.0, 13.3, 9.7, 11.7, 9.0, 10.3, 9.8, 10.9, 11.7, 10.1, 9.8, 11.7, 10.0, 7.6, 11.0, 10.9, 11.7, 9.2, 11.8, 11.0, 13.4, 10.3, 12.7, 9.6, 13.6, 12.5, 9.6, 10.0, 11.0, 11.2, 8.5, 5.9, 9.3, 9.8, 12.7, 11.3, 11.7, 13.9, 9.0, 11.0, 14.0, 10.3, 11.0, 12.3, 9.6, 11.3, 13.6, 7.8, 13.2, 10.6, 13.6, 12.1, 10.6, 11.1, 11.6, 10.9, 12.9, 11.4, 9.4, 11.2, 11.5, 10.9, 8.6, 10.0, 11.8, 11.0, 10.0, 9.3, 10.1, 12.6, 10.2, 11.1, 10.3, 10.0, 10.3, 13.1, 10.0, 12.3, 11.7, 13.0, 9.2, 13.3, 11.6, 10.7, 9.9, 10.4, 10.1, 14.0, 11.6, 11.6, 10.7, 9.6, 14.7, 10.7, 11.1, 13.3, 12.2, 11.1, 12.7, 10.9, 12.0, 12.8, 10.2, 10.1, 12.3, 15.3, 11.5, 11.7, 10.9, 8.6, 12.7, 10.7, 10.1, 12.2, 10.2, 11.5, 14.1, 11.6, 9.2, 14.1, 10.3, 9.8, 11.5, 10.7, 11.6, 9.3, 11.5, 12.6, 11.6, 11.2, 11.0, 6.0, 10.9, 10.0, 13.6, 11.7, 13.3, 10.5, 10.2, 12.5, 9.0, 12.9, 11.0, 12.9, 11.1, 9.7, 11.7, 13.6, 10.9, 11.4, 13.4, 10.8, 14.3, 11.6, 11.8, 9.8, 10.9, 15.3, 9.6, 11.9, 10.9, 13.2, 10.2, 14.7, 14.1, 10.4, 9.3, 15.3, 9.7, 10.2, 13.0, 8.8, 10.4, 12.1, 11.0, 13.6, 11.4, 10.9, 13.8, 10.7], [12.978770778168197, 8.666600960850062, 12.605211872712331, 12.684058678630478, 11.405518331225991, 10.120894152765047, 8.800453566949088, 11.769645702271461, 12.933150927277254, 10.209527602560158, 11.220726102346177, 10.421590911063774, 9.538812149506427, 11.648809355592945, 10.494261133029156, 11.272044149543305, 11.347857805350301, 12.095236807875423, 11.3097146839239, 11.52076355160834, 10.361412904355277, 9.060256312240469, 9.503174442948236, 11.714182834886103, 9.939259000382023, 8.923988573716358, 10.651885397500607, 11.306049960020843, 9.13648893635336, 10.514503847863395, 13.352059198437289, 9.686826215230482, 11.150243771250913, 8.942027381105888, 10.029647768980155, 9.949567063838273, 13.072769594105281, 8.951313825370832, 11.495493197840275, 9.996289687286932, 11.245679624294368, 9.622099299628914, 9.98985681805361, 9.383580215099343, 10.087209480781254, 11.333352339282825, 12.375000219977025, 13.06129859118964, 12.183957646574797, 12.319048940432637, 10.268353441754968, 10.124392447601437, 10.388160490231982, 9.107424890954732, 10.27500384555178, 12.04975757144284, 9.08686407055147, 12.501830567186786, 11.498045383815494, 11.786231549183228, 12.293992173246167, 10.085785876289535, 8.737134975627939, 14.11657568606033, 11.470949578938686, 10.392264803774466, 11.804280028346781, 9.997262847386125, 10.881456157020963, 14.403463785233996, 12.638848340301863, 10.203339720715391, 8.52939633184296, 8.886517238049507, 9.860486322274753, 11.304995961686743, 11.824360749527202, 10.97827821298715, 13.222354722619727, 8.99882513146467, 12.534861357259885, 8.772719468371449, 10.04654565673927, 10.847446111266706, 11.697876976810718, 12.326282073833951, 13.814285939809722, 11.382946398883448, 11.897772072908353, 10.979268004611455, 15.059552596870432, 10.592051640613633, 14.327031486758003, 13.9629211610184, 8.87588457929023, 13.17207109811288, 11.616768907322054, 12.05336438550448, 13.130862663823152, 12.113855444341695, 9.475346526257724, 11.412178457266506, 11.919342894901362, 12.548509950949025, 13.257543698596507, 11.750941812667676, 11.782786667335401, 10.068303399758676, 12.043824687923276, 8.790838296882882, 14.319335833922466, 10.560152463938081, 13.495497605999205, 13.193817933616899, 11.544154109794633, 9.257137156727637, 10.899212671206712, 10.77267099571263, 12.182509660505545, 10.97827821298715, 9.953782980027697, 9.474073103785187, 10.018729688910113, 10.382052660358838, 11.333352339282825, 10.095064421281947, 9.870901938356198, 12.037094912451082, 10.25910398661999, 12.246648257252033, 13.764024777435495, 12.65223217498287, 11.054411196720409, 10.43042292941304, 14.570101637563582, 8.722235225883466, 14.396592036343733, 6.954739834534209, 11.016223648013053, 12.375000219977025, 12.605211872712331, 10.18926693593555, 8.9149844308361, 10.422009475910542, 10.374233969785834, 12.423304517276208, 11.016310327311018, 11.849588603009849, 8.864627334705162, 12.030714277166496, 11.317991534156405, 9.669448941094103, 10.481974049274228, 11.062171446780937, 11.640568180558418, 12.922015855397419, 9.765298292182067, 11.233525971301603, 11.630186754336407, 12.211690406512659, 14.475925611265936, 12.067620256394818, 12.014885356900137, 10.81356385714325, 10.130158225250213, 10.2677025106738, 14.113896473866859, 11.701244218590816, 10.311126774361853, 11.471701144468668, 10.797506325637457, 12.985461143183144, 12.244928091505514, 10.468624159633961, 10.379403537738924, 10.315397583007595, 13.170147134343367, 10.059731173672205, 12.524107076106972, 10.041374181167427, 11.094618326732913, 10.501791911686539, 14.223908694180224, 10.515433604264373, 10.045412130751444, 11.280823418875386, 11.441626604577138, 11.164147982878873, 10.956783993493715, 10.34028742020682, 13.066329366152146, 14.308991628658347, 9.96179947275077, 14.734452396412323, 12.487655011896365, 12.744792415690696, 9.958548629995946, 9.131444693479622, 12.058983153448295, 14.844711993281905, 10.749377001205445, 13.277637135167694, 12.653603400703375, 12.178230553562841, 9.400826213338675, 10.18926693593555, 9.188724533337606, 8.927700738851215, 10.172148446240769, 10.478796917606175, 10.06162848571266, 9.809374627044505, 12.352710394093535, 8.742076669012292, 9.855820606752147, 11.545312919831574, 7.2285683727416625, 11.459888535089064, 10.349073297976403, 11.650369399692224, 11.42557568036436, 13.715014618125949, 13.081893973783096, 10.130158225250213, 10.361412904355277, 11.342642474871624, 14.422312574595068, 9.806660825236847, 10.774945236403525, 9.23216932224777, 11.718151052630944, 14.806988603351144, 8.959570586263268, 12.278243551557622, 11.621839094822732, 12.70934035843247, 9.972318705690938, 10.274966043244987, 13.170147134343367, 9.855385978441788, 13.484050799673511, 11.333125255715728, 11.41909031839036, 11.324182642597677, 14.55759486113611, 14.319335833922466, 12.04857589927569, 9.810066035715224, 12.523427383467876, 14.29966838171758, 10.43042292941304, 11.00303068354269, 9.53824762823244, 10.651885397500607, 11.043185181765963, 11.30705461949701, 10.232630666955899, 10.542019234332926, 11.2587430583947, 10.59734959711686, 11.09228761148124, 9.940348091298162, 10.869758065792936, 8.883107185442256, 12.136290688419919, 10.236038311967874, 10.747644091508207, 10.532300661553833, 10.31714429596768, 11.366091731072899, 10.680884695538495, 8.9149844308361, 12.564242884985376, 13.216902043236857, 11.268644237364512, 13.33386775042463, 8.977113767115313, 12.8886851874734, 13.076364738804202, 13.28264191035423, 14.035227131552617, 13.599004646758928, 9.101822061481741, 11.29842438464702, 9.02030820244481, 11.500574041601155, 12.334536161407684, 10.08053181707264, 11.282332099205902, 11.586643047379127, 11.298737303429604, 10.65440369334037, 14.308110310335266, 9.633473907105028, 11.69037933504596, 10.319868810536079, 12.097473951736262, 8.14527401232344, 10.358805609849284, 9.947926495354906, 10.49872352834727, 14.36280033107623, 14.167077841884108, 8.923988573716358, 14.666604679008103, 9.066614719592778, 14.989450993466832, 7.679040879974579, 11.333352339282825, 11.043185181765963, 9.792743616349341, 8.776331726713849, 10.050498580541259, 8.154657703230711, 14.08863307336587, 11.208816292942444, 10.666030766514538, 9.836208128977702, 12.261108114001487, 12.287745209661168, 12.299646683971602, 11.774500746894134, 12.371745010513493, 9.800875839321904, 9.810459219691708, 10.889822339140025, 12.060974203868042, 10.07387107001641, 12.347314875686877, 11.544154109794633, 8.712238701097974, 12.120390829887853, 13.633519526428515, 11.187950479859225, 11.262549440404925, 9.082275381394808, 13.101555329503114, 11.001793554020693, 10.358317467843264, 13.654768822346611, 10.10746386381588, 12.295059315623163, 8.781178557607106, 9.50729840382887, 12.062050708645344, 12.361201859795344, 10.167997556104908, 8.392191291116703, 11.638932494064008, 14.339655473831314, 8.761722021425427, 10.035532101207806, 10.347052912804926, 11.357278888195012, 14.413266689679674, 11.441626604577138, 11.202912486903458, 12.29555929774078, 11.48603005093473, 10.202655545586182, 11.683997421310139, 14.528708724919213, 11.161876256131379, 11.23427186151757, 13.073659267032141, 14.92106543965501, 11.458885819577787, 13.642563235696159, 11.22670600539577, 9.99669819688215, 8.824303182689889, 11.921086167497648, 11.781148891797145, 12.670903408713727, 10.025228543504724, 12.707978238127268, 11.244938527971769, 12.158085439502699, 8.790838296882882, 13.916249275108655, 11.333352339282825, 13.201588925981284, 10.512940205858555, 10.308793345560204, 11.496200528515416, 11.473623117596887, 10.238508204573279, 13.912416876260338, 10.297838821064303, 9.709151182650473, 11.268644237364512, 12.50643825343586, 12.216386254516053, 10.352019660178414, 8.865416723291943, 10.778539877846285, 10.480714574344617, 11.24618474226854, 10.276327200413036, 12.841049972968264, 10.693084774785618, 10.237318467962993, 12.97945810413539, 13.278307171315916, 10.18926693593555, 12.859846729409853, 12.651841773785506, 13.112107422438655, 11.765023243587436, 10.980847806963808, 10.274966043244987, 10.173986683642667, 11.105516164522939, 11.32701714938166, 11.122175031773892, 13.092658718847176, 11.471701144468668, 13.193817933616899, 12.068610374294892, 9.851309104352637, 10.916406352090505, 11.453401793554164, 12.690800122148445, 11.233525971301603, 12.04975757144284, 10.83405755102585, 10.4180333577945, 10.11626849939357, 11.314884877308302, 10.815804423694587, 10.401613288532914, 8.89227388791305, 10.729855547067288, 10.936090185917507, 10.110246237183034, 9.838178215769105, 9.879167520789721, 12.060974203868042, 11.269012661260874, 11.290223687802879, 11.316653604458494, 12.162848899260368, 10.189229071045403, 14.386062238877727, 9.864445509042795, 10.030898502672855, 14.4167457590368, 11.944600473815896, 14.690408102494345, 12.307652615035565, 13.5856757654431, 10.961003618004995, 10.787282607070026, 11.404473095918817, 12.042341967320041, 11.041313737662946, 10.27926723481805, 12.32329670901099, 13.086268507491965, 11.106911255268002, 12.325844475784194, 11.066435455373082, 14.226026375359012, 11.196033868679748, 10.29971037460841, 9.871665146240318, 11.388969813218225, 13.278307171315916, 11.156244696033625, 10.135630419917376, 7.6916904478851365, 10.51937567731811, 10.149336844566093, 9.669448941094103, 11.820478708413518, 13.062732919005882, 14.327031486758003, 9.668485486497318, 9.900296255583541, 11.272044149543305, 10.759459959578905, 11.126930767862447, 12.430777999753715, 10.2426381297701, 14.407450218091341, 11.367655479766924, 12.889924212256389, 12.953980149893411, 11.223635991994612, 10.714225664730563, 10.663720370098687, 11.364549451059517, 15.016998558209977, 12.308378915400041, 11.209249730232202, 11.049012879942254, 13.495497605999205, 9.145813917635039, 12.197459014179273, 11.989121376394266, 10.3333488144538, 11.02010372026352, 11.796012966925716, 9.50729840382887, 13.011661590654782, 12.988898341779802, 9.93081648459274, 9.882771587276963, 11.616768907322054, 9.676981626587164, 13.047214718480333, 10.34000315844905, 12.202852476536734, 9.925404945749776, 10.192916784989663, 11.989121376394266, 11.269212531729224, 12.452602361812112, 10.82266915458176, 8.928234326201434, 13.220004261488882, 12.78573324648032, 12.070890765072633, 13.99674125684696, 11.697876976810718, 11.396939875742916, 12.03212657131671, 12.164565364454845, 9.788294891755228, 9.791929619524396, 12.880214511972824, 14.815163948958158, 5.776177888935578, 11.272144840516646, 12.054642674603471, 12.931046341855378, 10.100253404375096, 10.180240467810378, 10.764500038775893, 11.183572120261758, 9.34139453789912, 10.961003618004995, 12.039900427941845, 10.705017600686276, 12.029186839226256, 10.497782003233894, 9.014765891642398, 12.996442892548018, 9.822015461731823, 9.909925207425019, 11.183572120261758, 13.1892638241291, 13.979816325142835, 9.819960358371915, 11.365284928967682, 12.868712952625444, 11.262993561907294, 12.183157189060964, 12.539017953469099, 11.46229178435469, 9.88679434018313, 9.11546848564221, 10.276327200413036, 12.024878107683705, 12.272470472107031, 10.561668046000065, 12.54686614788379, 11.211417603716924, 8.908277461875784, 9.774140637814796, 12.684058678630478, 14.084727621887666, 8.145001303887781, 10.263215290515674, 10.96825343843311, 14.202067420602631, 13.087325260395389, 13.540899289251044, 5.446287301277422, 10.388160490231982, 11.137994450514768, 10.51247627991988, 12.208568058532634, 12.019063221912162, 12.911684697162215, 10.432545894932716, 11.906056715353131, 13.390884553754674, 11.843251252026036, 11.500574041601155, 12.033773089209078, 14.488894837554923, 10.734198170420584, 11.239064845405025, 11.157018795372366, 12.369649329451292, 13.234440359013476, 11.333352339282825, 12.209874871088047, 9.853777674408136, 12.05690381588947, 10.18926693593555, 12.339815779068246, 13.302933902002493, 11.209249730232202, 10.408337451619943, 10.032529002684257, 10.609390043167238, 14.327031486758003, 13.814285939809722, 12.318467505919486, 10.480710353217816, 10.664391474608507, 10.750399534947334, 12.080855328221602, 10.002672053128933, 11.697763956686046, 11.411430150720932, 12.05586161816909, 10.232655088867702, 12.167023926103226, 14.15799970658854, 9.864445509042795, 12.29798929766848, 12.017211431795019, 12.24053222900993, 13.101555329503114, 9.873554964774755, 12.889924212256389, 10.025228543504724, 9.978028149558028, 11.343833353635361, 14.270885500114034, 10.18926693593555, 14.712428016631108, 14.57453133650715, 11.869784168640123, 11.316206168655569, 10.822198258243859, 11.908145620388765, 11.529061028212979, 7.792243694900478, 12.407716891149263, 10.063350600704595, 11.227816241505295, 12.859461048475438, 12.389976752124582, 10.644221528985597, 9.509572645086607, 10.63438578739742, 12.571265094465431, 11.433820521116374, 10.18926693593555, 10.108475722555156, 12.048947875070823, 10.199404113910802, 10.425195613091361, 11.198240866749344, 10.975713550065208, 12.509157225623582, 10.149336844566093, 11.24362487065018, 10.035837907481707, 9.522627510868276, 8.037150593783096, 11.722852611196956, 11.441626604577138, 11.842539234148077, 11.532994015010715, 11.707278270664844, 12.053762507024018, 13.82699556021116, 10.611888264512615, 12.447502622180124, 11.920607324015961, 10.69842779895707, 10.188372545718536, 12.105235301164882, 8.781178557607106, 12.050564788896097, 11.294941605493747, 13.484050799673511, 11.496846190634912, 9.572104916978148, 8.977113767115313, 11.419249758653038, 8.639231123864462, 14.4132438364134, 10.676772320717006, 11.159838257658791, 12.644730113697094, 12.534861357259885, 12.33198093169203, 8.941864648976932, 14.386062238877727, 12.697182380364481, 9.921285575699855, 12.575006360205677, 12.108015132976377, 13.246608269563964, 11.367655479766924, 10.285659985114123, 13.170147134343367, 10.140987645976836, 9.365413500792144, 10.682116766968008, 14.43765114386342, 8.887696543379477, 8.800453566949088, 11.908453846295103, 9.416883344051413, 14.507797058867524, 10.397686116191196, 10.468624159633961, 12.756172875542049, 12.436786249639496, 10.140987645976836, 11.889665178826633, 10.908822144559323, 14.613958192515653, 10.32324280918992, 10.16581683163831, 9.732135825082239, 13.456924474692002, 11.3097146839239, 9.95943164255668, 10.744298144504953, 11.33899494904044, 9.470327980632916, 13.461042737838667, 12.601810192415812, 10.254675346809833, 9.97325885283378, 10.700166033734874, 13.615575582636026, 13.606368832642417, 8.92719474862615, 10.911839314878577, 11.593728488750727, 14.167077841884108, 12.548509950949025, 12.670903408713727, 11.509239245561773, 10.030657595828686, 9.774170702123158, 12.949418382503879, 11.317991534156405, 11.170404850377324, 10.956783993493715, 11.842539234148077, 10.178369216880398, 8.932948339439733, 13.583253248626804, 9.966220135528872, 9.699961107694705, 11.58461016046867, 13.142827164544812, 9.747718937574334, 14.854318790930208, 12.966623150513712, 10.314925707065228, 11.302350838996105, 10.67491813082897, 13.320662791276206, 9.847075630478955, 10.390084295129142, 10.002433824996203, 9.93081648459274, 7.657909385189939, 10.196990449566599, 11.506454482255592, 9.224587098967547, 11.820402698299674, 14.92106543965501, 12.014885356900137, 11.968802811955626, 13.234440359013476, 8.013188020605682, 5.373132106261707, 11.278815105030432, 12.771823890844914, 14.613958192515653, 10.459779798754695, 10.369391276389521, 11.921086167497648, 11.30999123170777, 7.243289569439455, 11.465017467994855, 13.289283756300662, 12.178230553562841, 10.797625251466613, 14.375396553004336, 8.923988573716358, 10.116225127879531, 10.10421545632498, 10.574213978428176, 13.101555329503114, 12.201602202195588, 10.135983984371066, 10.605993612823383, 13.693467678621616, 9.416883344051413, 12.038763726744307, 11.907113077469418, 13.153825137723558, 10.656041373412606, 11.323288511931693, 13.771415127924499, 10.192950078978626, 11.724196886192018, 12.183957646574797, 10.916334240780358, 11.122175031773892, 10.664894828379417, 9.999647004987125, 7.687342415552209, 13.089048883895245, 8.861932024947507, 9.549796988498812, 9.996521121829844, 11.418679228492053, 10.175727750995563, 10.853128391248262, 10.857983070181305, 10.494160931494932, 9.862905186709483, 12.170217266243796, 14.223908694180224, 9.234719524213958, 11.181128139901645, 8.786014042721305, 10.074753433187013, 11.067592992719526, 9.13774174377913, 10.276327200413036, 13.131819093326428, 14.368455221981364, 12.158974754969037, 10.759459959578905, 9.966972515906761, 13.517773336210027, 10.966106167386258, 9.602589933157489, 10.21453762732908, 12.090581618208759, 10.932173647376928, 10.522665195979513, 10.672997089851648, 10.37722768402027, 10.1537653526796, 14.487071775070305, 8.612057735826326, 10.492552606506521, 12.202852476536734, 14.475925611265936, 13.640706614797907, 9.709151182650473, 12.275204673552523, 13.122275503224316, 8.742076669012292, 10.21453762732908, 10.273582682831417, 11.266821960896138, 10.532022234353732, 11.377663527705678, 11.803238803523797, 12.484586416011823, 8.9149844308361, 10.72631888676851, 10.050498580541259, 11.35011581960434, 11.496083219475892, 14.210030020188512, 12.060974203868042, 9.250988978934103, 8.747006106810929, 10.803146571957129, 8.85729352418575, 10.347052912804926, 10.149665902329886, 14.091320622933651, 8.901392996976298, 10.079074882209099, 12.261753859598045, 11.609353444611585, 10.303257784616378, 11.252075191830315, 9.274274090080596, 14.535094657111856, 13.324773805022502, 8.702190432784207, 13.220004261488882, 11.800179175016908, 12.317234731195, 10.276327200413036, 13.099408437355393, 11.874885658110813, 10.397894840312162, 11.9252244081611, 11.333352339282825, 9.871665146240318, 10.467552446825081, 12.524107076106972, 12.145180301532761, 11.004059717884317, 10.281808985556651, 13.092658718847176, 13.137042615813058, 11.31924580978675, 14.386062238877727, 12.278243551557622, 13.02798735918195, 9.824571804550303, 9.953782980027697, 10.52616741887077, 12.435783709344193, 11.949143849316258, 11.787484657371621, 12.719597581776995, 10.364704420566724, 9.391702341917764, 11.157018795372366, 10.442816497402688, 9.913211381151356, 14.113896473866859, 11.812285499504739, 12.596840506451642, 10.684820484651297, 11.869238192611462, 9.978028149558028, 9.847075630478955, 11.15987560416697, 8.742076669012292, 10.463157582154324, 11.09484742523209, 10.758931544859749, 10.675162385528253, 13.059873604000401, 11.31930422975283, 12.099590282162623, 8.981474998038081, 10.352246519068373, 12.119243610951614, 13.086268507491965, 10.516653016438156, 13.387135916552594, 9.474073103785187, 12.001777469168971, 10.196168920359284, 11.189322845984222, 9.091222056489912, 12.051572192012188, 11.278786807964295, 13.09746718383694, 12.557231125381165, 13.072178777121096, 11.866289574997879, 14.624377720464778, 12.697182380364481, 11.471701144468668, 11.256232340734002, 10.026997318727169, 10.927850935916737, 11.756022665536236, 10.960010754249467, 10.780386262103363, 11.188519389269729, 9.921285575699855, 10.278740511345674, 9.879542402014792, 10.2677025106738, 12.587924414491951, 12.798878664241144, 12.106236710692698, 10.47064012564924, 8.472353226566426, 13.12726389722529, 9.798538471430035, 13.02584152241188, 12.183705228369305, 10.852586762873486, 11.39078230892055, 12.246648257252033, 11.291214847838361, 9.119476235414638, 12.938319339623646, 10.879412086799945, 8.928953897771223, 10.595309456211268, 10.09921247199172, 9.859868604831078, 11.509239245561773, 15.012254484059028, 12.61627256986985, 14.55481409938811, 10.199404113910802, 11.162470712243064, 11.608212177259063, 13.975693442323333, 9.802376240736791, 10.15564015684258, 10.127463584063022, 14.589605371721788, 10.724174345020671, 8.722235225883466, 13.540899289251044, 12.026704087056075, 12.140704897730117, 12.284958402694699, 10.269541488836055, 10.068297306362453, 12.539194865955594, 13.386862852278952, 11.229769898144966, 11.303901122711338, 14.451077261986299, 9.060256312240469, 10.976610310615158, 13.140639408407239, 11.201933883956642, 11.122175031773892, 8.248866951263423, 9.968084346144039, 12.039415595182888, 9.160109215164354, 13.161003836833785, 11.746893819031627, 12.369649329451292, 11.348326775342954, 12.88847752161682, 11.397619205706448, 10.675162385528253, 12.933150927277254, 10.796701806738653, 10.947757152947176, 12.145180301532761, 10.891829763876828, 9.50729840382887, 9.744175735329279, 9.888725948874068, 9.957229465038196, 11.248950537682774, 13.970064812277357, 12.78573324648032, 12.05336438550448, 11.545312919831574, 12.756132044410421, 12.287094910093671, 10.108475722555156, 10.734283606479309, 11.747025025582204, 11.609353444611585, 8.901392996976298, 9.996289687286932, 12.78349609095612, 11.787484657371621, 13.952944416352054, 8.928711031817599, 11.862417457057106, 8.565351319851558, 14.289464348304406, 11.920360750076085, 11.561660954477063, 9.338907880531039, 13.246608269563964, 11.484549440497446, 9.802376240736791, 10.482048614699394, 11.105516164522939, 13.216902043236857, 10.361412904355277, 14.943856212884654, 11.521807513188193, 12.042341967320041, 13.17469068013024, 10.205923104678092, 11.357009955724422, 12.03212657131671, 9.04162136289169, 12.649944115098421, 12.051572192012188, 7.698301396666736, 11.310409500332113, 8.51259976653391, 11.417448724794255, 10.099637025366334, 10.363924647737505, 13.990145800609113, 11.26629213592723, 8.492388035115525, 14.272299233666942, 12.277509762552015, 8.592109148095275, 9.31029783940214, 12.710682901771449, 14.332624099205802, 10.96825343843311, 13.019869993720292, 12.123414134085849, 13.484050799673511, 13.468739686878777, 10.118687537569073, 13.181288002609378, 11.388057757281146, 10.085481309210351, 11.333352339282825, 12.056251185261587, 13.291773082858796, 10.905930680225808, 12.531732038859715, 14.653373217675195, 11.93711311953966, 10.942431173665042, 11.494570957521589, 10.543609864914558, 11.688051836386236, 10.085882824106463, 14.02103956225919, 10.703066107434367, 15.016998558209977, 13.468300439405809, 10.097825252395793, 10.31384905532586, 10.525101415859623, 13.518275904122945, 12.30489275898735, 12.112306536023695, 10.443647064378908, 12.093733473401969, 8.776331726713849, 10.640349370044802, 10.126156769845053, 9.864445509042795, 11.433820521116374, 10.595550441735938, 11.116267737295217, 10.308793345560204, 11.554162814977005, 10.255879305222422, 9.881601328560961, 10.608565977150008, 13.172745208419016, 11.443163036616895, 12.397489305283031, 11.53260092369355, 8.492388035115525, 10.113044381051893, 12.121224904932475, 11.0905187282181, 10.739297822861133, 10.484033993113641, 10.062055798820822, 14.974436749390676, 11.718151052630944, 10.197345223659156, 12.052587838468114, 12.577760421557556, 11.697449926624628, 10.894305921191787, 10.902996929696016, 11.071143986609329, 8.99882513146467, 12.96720392728757, 12.246716596778512, 10.212506154265881, 11.750941812667676, 8.781178557607106, 8.869265889365394, 11.146241934572842, 13.440996849112068, 11.113908527436521, 9.847075630478955, 10.6217357726794, 14.153048302544718, 14.475925611265936, 13.136585432806257, 12.802468309181947, 14.931869208240911, 10.493195234700849, 13.234440359013476, 10.447394295849605, 10.24138895476726, 12.771823890844914, 12.081956854456891, 12.308144974381591, 9.90228194689216, 13.161003836833785, 10.31565732694007, 12.943385525042046, 8.377502507853293, 11.138202178877052, 10.2677025106738, 10.431146402747274, 14.57453133650715, 10.97827821298715, 9.89764708650118, 11.654772048193351, 10.563457569619729, 12.365894642865257, 12.782169043729752, 13.145489916659514, 13.96400750724142, 9.27963099284834, 10.736298562428871, 12.53103201317144, 8.929756886707125, 12.86982507612565, 14.540164816312696, 8.883107185442256, 11.067638027601149, 12.94439398027616, 10.21453762732908, 10.361412904355277, 10.161685634134571, 9.919862467857726, 10.16473480204995, 13.92024055199299, 13.27106650451178, 8.742076669012292, 9.237026042670024, 12.455707321266615, 9.946256973390788, 11.18240792888109, 9.853428732481277, 11.248232559744153, 12.047233731983667, 10.183941619844788, 11.166021468773849, 10.00491898576665, 10.337663769031948, 8.955159648683818, 10.040464350101772, 10.594508976966878, 11.693051726778592, 10.280946762573237, 10.681633802301164, 8.878505700445473, 11.17800719040433, 9.770240798755637, 5.776177888935578, 9.50729840382887, 10.374601710830845, 14.375929599459866, 10.94002412673153, 14.451457335849497, 10.50344498035274, 10.189229071045403, 8.576180983114043, 10.958008418752613, 9.891681602620608, 12.134421884085256, 10.487224042567775, 9.769071034062833, 8.732180913006502, 11.884002571826656, 11.8675050601626, 14.318358039457323, 8.927445238688321, 10.173986683642667, 11.266616198877543, 12.37018462406131, 11.098595256163478, 14.223908694180224, 9.972773991775554, 14.612635620661692, 10.37124814139979, 10.176633200432931, 11.249325553322066, 13.882317552768015, 8.717243374739425, 10.236038311967874, 13.695727142522898, 10.004305333345926, 12.05945211900989, 10.690776071033994, 8.950738423716118, 13.424844425436547, 8.92653702082616, 11.204479645133048, 13.261300787565503, 10.037575741270572, 10.090928213180902, 12.022447311642551, 11.194339738552841, 12.166055231292646, 12.509851925849304, 11.908453846295103, 10.472997726820992, 11.812285499504739, 14.583356366666791, 10.272142709128318, 12.164565364454845, 13.785985264966527, 13.239297118462943, 10.115459428814845, 11.39513450211534, 12.982291856143362, 12.033773089209078, 15.163051098686353, 10.467552446825081, 10.666439436553716, 11.33909165759296, 12.070890765072633, 12.477195864313487, 10.10746386381588, 11.899080542806857, 10.443647064378908, 11.756832522605052, 11.122175031773892, 10.405778759200345, 11.355262224187115, 9.50729840382887, 12.076308077786322, 12.212287112025749, 11.555724782712147, 11.267675048894759, 9.738470449600797, 10.470313372162579, 9.375818573460762, 11.204479645133048, 10.911839314878577, 10.235824839555605, 10.045453467687636, 12.943557058289386, 11.196520459411929, 11.471701144468668, 12.889924212256389, 10.708844228163159, 10.663720370098687, 10.750399534947334, 12.577959461044244, 11.496200528515416, 11.196520459411929, 10.200361569298636, 11.509239245561773, 9.785361103756529, 12.02241177468595, 10.852509934563656, 14.290747599199037, 12.282717663739547, 12.600866963435053, 9.909925207425019, 10.18926693593555, 10.98187785969212, 11.75436184605796, 11.509546650749414, 12.968905504097435, 14.379716240163631, 12.768042226543272, 9.079941865438101, 12.394598272213713, 9.107424890954732, 11.15853331600674, 9.53824762823244, 8.742076669012292, 8.901392996976298, 10.183389596080175, 10.493563789517154, 9.868037776975413, 10.657262785261352, 13.263256979308878, 10.480184987292247, 11.76284953420263, 11.333352339282825, 14.557995277379902, 14.612635620661692, 11.245771589284502, 12.22849065891505, 15.038276675647737, 11.233525971301603, 12.314343588095014, 12.11257364215571, 11.371744465250728, 9.819960358371915, 9.81380239583386, 9.223300525108513, 11.824360749527202, 14.515373260724388, 10.120235057128568, 12.548509950949025, 8.985826634206475, 10.30021824645091, 11.645977314441595, 8.9149844308361, 11.333352339282825, 13.98990430293206, 11.437802919975454, 9.893615233220132, 11.920607324015961, 12.162402343444498, 11.5895945411351, 12.201340635441099, 11.318142880091997, 5.482887256478804, 10.308793345560204, 9.810066035715224, 13.324773805022502, 11.531957548343868, 10.956783993493715, 10.470313372162579, 10.309206453111344, 10.656883034283325, 12.488406100426161, 14.669094958745788, 11.417448724794255, 7.531343293524785, 14.743177114243096, 9.878315510706031, 8.786014042721305, 14.02705342529525, 8.829041696331203, 11.340204158844514, 10.444530147938437, 10.761690262096906, 11.509239245561773, 9.836208128977702, 8.786014042721305, 11.509239245561773, 9.68022439712631, 9.837000707485728, 13.352059198437289, 13.277637135167694, 10.94863931760419, 10.43282260948699, 13.207179615931906, 10.2426381297701, 10.141868837650051, 11.068503829646303, 12.651506748446351, 12.118383438082034, 10.19388967053355, 11.60594396401875, 9.836208128977702, 14.854318790930208, 14.989450993466832, 10.464515528513672, 9.844384324066866, 10.335154535453782, 10.170885438731872, 10.45175419653178, 13.181770440150373, 12.479503832542193, 12.12764541582446, 11.730946371087427, 14.212876103690448, 10.461518847943168, 10.764730562349811, 12.464819229489237, 10.67998260361064, 8.761722021425427, 9.606639234255724, 13.140639408407239, 13.248857993737417, 12.892938441105159, 10.553662166464434, 13.003528290882329, 11.357009955724422, 10.288412756209524, 10.49872352834727, 12.710682901771449, 10.693084774785618, 9.947478752857293, 12.010652752319672, 10.261739342032612, 12.216386254516053, 10.229544076176055, 10.520369893883341, 11.333942260916317, 12.131937563269545, 10.503660575464707, 12.136283696814004, 12.209859901794786, 12.136290688419919, 12.190791300995713, 12.301379317791813, 11.303420906114567, 13.181288002609378, 14.480230656964793, 14.312923860841053, 10.544099015535991, 11.67934133405224, 14.966651483430994, 10.183941619844788, 13.373445538559551, 11.495493197840275, 10.230425543715043, 8.926947390878283, 14.051987605405245, 12.030714277166496, 10.358805609849284, 14.115543478084234, 11.109339779369563, 11.232446664940014, 11.280967963920645, 10.082766599321346, 11.338411387844914, 7.349963103656862, 12.868996206746758, 12.256578860720126, 11.249878903955775, 11.989121376394266, 14.446929985885888, 14.375828473198723, 10.040464350101772, 14.451077261986299, 13.070737435245334, 14.24652037634523, 11.638999890582724, 8.86555170920046, 13.95854092396921, 10.480184987292247, 11.086845151075337, 13.98990430293206, 10.142235762607854, 9.625811989915107, 11.478392244537915, 8.990168791349149, 8.85997619457639, 6.033425951990736, 10.480184987292247, 12.46515777910399, 10.035532101207806, 10.32590112993141, 10.657262785261352, 9.842691858170198, 11.282332099205902, 9.794905037613077, 12.378849095566054, 8.776331726713849, 10.042951855054795, 10.147557544295339, 11.509239245561773, 14.807188072172082, 11.836063100420958, 11.015903714698013, 14.362639127229428, 13.086404459655839, 13.440418839530409, 10.81559832273642, 11.419986283875275, 11.341194096220804, 12.030714277166496, 12.126615731012222, 10.73037757507636, 14.419015123249935, 11.227816241505295, 10.690776071033994, 12.110739544328041, 10.020660032039174, 10.281690350947699, 12.053611432859995, 13.98990430293206, 11.473623117596887, 12.78573324648032, 11.882710729961488, 11.7359253129719, 10.040464350101772, 14.966651483430994, 10.229544076176055, 9.85730094347609, 12.80803036612933, 10.358805609849284, 11.882710729961488, 11.475094139462541, 9.837510018717055, 14.013695697063028, 10.166287110684877, 14.521259354936134, 14.613958192515653, 13.057465000415775, 12.199493292394706, 11.929274987432379, 11.190073664637836, 12.889924212256389, 11.906056715353131, 10.387522383465054, 9.733550618259116, 10.395685248229071, 11.254638945002895, 11.944600473815896, 11.28635651660197, 12.571265094465431, 10.10746386381588, 12.644730113697094, 10.273724226353167, 12.859461048475438, 10.216647916961207, 12.209859901794786, 9.50729840382887, 8.697146611876903, 12.455707321266615, 12.395889018978139, 11.275358315909486, 9.837000707485728, 12.158974754969037, 12.889602613696567, 9.06247664437096, 9.878877092297714, 11.111108441454505, 12.48574208851214, 8.907696342469805, 9.83818866897063, 11.908145620388765, 10.452824955587218, 10.181662476747348, 9.475346526257724, 11.260825968621518, 13.390884553754674, 8.766603572487199, 10.511037790073985, 10.911839314878577, 11.469556095190725, 8.20962130728303, 10.18926693593555, 12.212287112025749, 10.433326888148528, 11.116267737295217, 11.441626604577138, 10.529222081429268, 11.845275895614847, 12.798878664241144, 12.042341967320041, 12.199047368313856, 11.205983409848429, 11.387402160572762, 10.059175839177712, 12.183619835089573, 11.132987968162794, 8.819554351999884, 13.771415127924499, 11.672256634093443, 11.840619228035663, 12.128866710397503, 12.23414610189802, 11.369333174963046, 10.759459959578905, 10.582924541671034, 14.466568833543803, 10.618935566504021, 10.43328883543704, 12.172066679241922, 11.591674052847608, 11.405518331225991, 9.908762786524377, 11.778695449148742, 9.9599090951845, 8.89227388791305, 11.201933883956642, 8.981474998038081, 7.595863669142361, 8.896839334169542, 11.872392992453385, 10.278740511345674, 11.244791355001595, 12.172066679241922, 8.761722021425427, 11.509239245561773, 12.760177754989215, 11.285994070148533, 11.289716063579633, 13.291998277683248, 10.426166314378222, 13.070737435245334, 13.058139548348933, 12.484586416011823, 13.387136867898604, 12.209859901794786, 12.448083093103648, 12.026704087056075, 11.196520459411929, 13.591569917825197, 8.91949210677312, 10.251519050843214, 10.142235762607854, 9.98750909467644, 12.216386254516053, 10.06858480655437, 11.190073664637836, 10.2426381297701, 10.181662476747348, 12.05990327784393, 9.755802812268755, 10.966334753105272, 11.722852611196956, 14.739278100073804, 10.343992163952223, 12.85587579753637, 12.94439398027616, 11.638999890582724, 14.407861269314978, 13.45480930667263, 12.818869691883535, 10.425195613091361, 14.16716029608078, 12.050668035505893, 9.416883344051413, 9.59329752676426, 12.12764541582446, 13.036987486283849, 13.04514455842154, 10.748452367898878, 11.14406526951943, 11.484549440497446, 8.707221091339576, 10.540971466364951, 10.367146568299447, 14.889297971272114, 8.452495525375795, 11.496200528515416, 10.05559881381059, 12.889924212256389, 14.303275638604916, 11.31924580978675, 11.361487172852591, 9.167567719555379, 8.361230591969885, 9.954540663176246, 12.072007485944866, 10.303257784616378, 11.798042061032262, 11.955296752802766, 11.12233573481653, 10.142235762607854, 14.386062238877727, 12.575006360205677, 14.989450993466832, 10.520369893883341, 12.931046341855378, 10.156410453727673, 12.341181676306675, 11.293667578730762, 8.865416723291943, 10.149336844566093, 12.232436669978867, 11.55668214465122, 10.229544076176055, 11.001793554020693, 10.699441349766218, 14.42974037993126, 14.966651483430994, 13.123136063938816, 10.391287322484729, 13.270314891156247, 12.269004240671435, 10.495567556129387, 11.396939875742916, 12.931046341855378, 12.26417775563759, 10.037991062422677, 9.912257690967905, 12.738167028760742, 11.588139765014873, 8.697146611876903, 13.171465933777014, 10.985081263507979, 10.78294085365205, 11.256203929418277, 11.19555147448709, 14.386062238877727, 14.591367052539951, 10.516653016438156, 10.189229071045403, 10.274966043244987, 12.277871196059365, 12.270811721605511, 10.970335587076349, 11.23081643637424, 13.122325285355416, 12.03538430304188, 8.873891973167062, 14.740298967698706, 11.062171446780937, 8.061282669808222, 10.075345697604732, 13.65595091677396, 10.310767035668775, 14.362499369573285, 11.325854196005182, 12.054642674603471, 14.377144611414494, 11.746893819031627, 11.397619205706448, 11.194339738552841, 11.621261916963064, 9.50729840382887, 14.630267777126662, 10.15901396702911, 14.35158416345375, 11.04077918450939, 12.65055777460229, 8.727214367403846, 10.939032443620178, 10.140987645976836, 11.269192486276822, 9.474073103785187, 12.043851888115839, 12.402159848850076, 10.180695935214814, 11.24618474226854, 11.285828302106253, 10.2677025106738, 11.346779016126035, 11.28305501774166, 7.3843179139178545, 14.396592036343733, 13.161003836833785, 12.308144974381591, 11.683509149304243, 12.026704087056075, 11.122175031773892, 14.356468336863415, 12.866755317885051, 11.422891313897068, 10.295828491030349, 9.334897836444085, 13.789630041518919, 12.516729734971975, 14.261791480540793, 13.0488168260229, 15.035061697358557, 10.487224042567775, 10.81559832273642, 12.128866710397503, 11.146568460254727, 11.137994450514768, 11.642767872758938, 12.853057337942388, 9.605104324338114, 10.724174345020671, 13.086404459655839, 8.393986936006783, 11.747025025582204, 10.54510247268199, 11.69037933504596, 8.776331726713849, 12.368944642511721, 13.263256979308878, 11.840619228035663, 10.150985325085728, 12.403365532866971, 11.15310446120138, 10.947021764989856, 14.756480985433242, 10.070228398560445, 10.966753209172836, 10.101613096782827, 10.18926693593555, 9.16792529630338, 11.336933193847742, 10.556318818179804, 9.060256312240469, 10.537995584877805, 14.612071609753272, 14.436981550246216, 12.682439875937504, 10.229544076176055, 9.9599090951845, 13.220931512175682, 11.74627804834249, 10.605130905375788, 14.280605175637263, 11.955280715649948, 12.727838836526004, 8.836527718457816, 8.747006106810929, 8.494747467027352, 10.464515528513672, 12.105235301164882, 12.275204673552523, 11.278815105030432, 10.642869535660154, 8.9149844308361, 9.958471630571964, 10.361412904355277, 10.200650954571117, 11.201933883956642, 11.889665178826633, 12.036147441915361, 11.011177528427012, 10.803146571957129, 12.779969283717307, 11.5895945411351, 8.707221091339576, 12.46871933096854, 8.950738423716118, 11.227816241505295, 8.819554351999884, 10.366948673730164, 10.023425482229229, 13.209283682593465, 13.193270940365707, 9.428168442934563, 11.117537623547193, 13.257257243141154, 8.908277461875784, 11.001793554020693, 10.979268004611455, 12.076308077786322, 10.71363043821411, 11.156244696033625, 11.3097146839239, 8.742076669012292, 12.049565925338626, 10.21453762732908, 10.465330273587185, 13.130000866350471, 11.196386782746501, 9.10327590133538, 11.140667291251972, 10.348945956505574, 13.178047891607363, 9.837000707485728, 10.189747700472523, 10.556318818179804, 10.629477025640242, 7.989395186191629, 11.161170595586825, 10.55253284202199, 10.483738064827136, 13.369346553055308, 12.141461946175056, 8.24580235632611, 12.119909531498067, 9.702678472653744, 10.745885937695945, 11.366091731072899, 8.910465430283054, 10.18926693593555, 13.246608269563964, 11.640568180558418, 13.171465933777014, 14.807188072172082, 10.037356308120522, 11.920607324015961, 12.587924414491951, 9.566915214332582, 9.688269083220959, 10.196168920359284, 8.926454611485767, 10.032189778289919, 12.314343588095014, 13.134542849776423, 9.582857421944297, 10.736447518085058, 10.314925707065228, 9.680079821616047, 9.617392847941275, 10.568920216122294, 10.026201399970248, 10.64082458860075, 8.805244810871315, 9.485857355854293, 11.388057757281146, 10.871190181055951, 12.227044806469436, 8.896839334169542, 12.655884996801703, 10.277426048446884, 10.274966043244987, 14.450304599685566, 13.296432266160352, 11.791283858040785, 11.509239245561773, 13.529607048624982, 11.509239245561773, 10.199404113910802, 11.853955049318117, 11.471701144468668, 12.022626825407585, 14.4167457590368, 10.138277797977295, 11.92016385203469, 14.943856212884654, 11.225724683444511, 8.795651433313012, 12.50427057611823, 8.923988573716358, 10.30256066615702, 11.275358315909486, 11.428370596858528, 13.30146684059882, 8.977113767115313, 8.761097729820264, 11.8675050601626, 11.231560731847637, 10.142235762607854, 12.103166857533594, 10.301964455603681, 10.013368577373782, 13.239890017978993, 9.93081648459274, 10.721723202553491, 8.843196477400213, 12.073191706268787, 12.182858923576802, 12.065310747030978, 12.432275381655288, 11.388057757281146, 11.411430150720932, 14.65518119551352, 14.430992561977561, 11.004059717884317, 9.292188275851274, 14.350642564505776, 14.362499369573285, 11.857923023041891, 13.629668971002772, 11.629077766210045, 12.531732038859715, 10.079033605793754, 10.414523095499405, 9.838396101544774, 9.099343058580686, 12.025355311724795, 14.989450993466832, 10.180695935214814, 13.43516855596981, 8.847894866479052, 11.571403281744367, 12.892382229172014, 12.398127747990017, 10.26456885596717, 13.931060891237664, 12.790624901189673, 11.989121376394266, 14.397152601031209, 10.292591976932542, 10.666173837689072, 10.577751575262752, 11.509239245561773, 10.455713491205913, 9.304023741644684, 10.379935835469311, 13.865211610001367, 12.456800616247435, 11.82554689717226, 14.386062238877727, 11.209249730232202, 14.071763434377587, 9.474073103785187, 12.051572192012188, 14.432162405853248, 10.050498580541259, 12.339208496737498, 14.083599985376438, 14.345360525522935, 10.167801441207573, 10.65929663598699, 11.267169471978193, 10.31939311246542, 13.060563798211021, 12.026704087056075, 10.177105063679207, 10.148443898494676, 12.392500642282627, 14.535094657111856, 11.357009955724422, 8.742076669012292, 13.087325260395389, 11.026572139143624, 13.17469068013024, 10.568920216122294, 10.74326817356932, 11.740858068358008, 9.999608620447631, 13.975693442323333, 10.276327200413036, 9.839946891026372, 12.304567047550606, 10.488176667869354, 12.365894642865257, 11.672306421579648, 12.166055231292646, 11.183466235435205, 10.347052912804926, 12.262889053224441, 9.991373371368624, 14.368488649833395, 9.864414046032195, 11.235708712632274, 11.336562082239922, 14.432162405853248, 9.83377598017914, 10.318312067661552, 14.080671674385755, 11.333352339282825, 10.34590163111288, 13.888265781660536, 14.070321826543747, 13.346316386479245, 11.87106299590532, 10.141868837650051, 10.534131666994014, 8.59128596089731, 10.970763303247892, 11.199693466728874, 11.227276083637932, 11.933237894877763, 9.756490989516621, 11.1770158421089, 10.127267783670774, 10.037575741270572, 8.576373314939062, 8.697146611876903, 12.643663165351697, 10.529222081429268, 10.736298562428871, 9.989159843851937, 8.58738932439455, 13.134776968104504, 12.111084389255936, 9.930239853997861, 13.387500618500141, 10.03048516299286, 8.910465430283054, 9.961924322305592, 13.289283756300662, 10.130158225250213, 12.172329850737967, 11.305071462341672, 9.827918908891021, 12.459632118497481, 13.518275904122945, 14.475925611265936, 10.079074882209099, 9.416368873940243, 9.942348446947378, 10.06624303834478, 8.800453566949088, 9.996931134056737, 10.033087575980332, 10.201989330441663, 10.023425482229229, 7.942319680037414, 12.199047368313856, 12.375000219977025, 10.638239944938775, 12.31814468574457, 9.800875839321904, 11.167309546031262, 10.280798404163349, 8.928953897771223, 15.038276675647737, 9.533879700347867, 9.174670856505415, 11.71788937753017, 12.248191205067357, 13.8767688281835, 14.957910536336655, 11.433820521116374, 13.073096739684203, 13.130000866350471, 11.342642474871624, 11.230393898392592, 9.791929619524396, 13.000814226371673, 11.428976417151077, 11.223534949130496, 11.824360749527202, 12.164188870406448, 10.029647768980155, 10.831352766169672, 14.989450993466832, 10.007181771630073, 12.033773089209078, 14.364459487801739, 11.471701144468668, 5.849624217636389, 11.595815772350122, 14.570101637563582, 10.053021576969556, 9.139002115254058, 8.413312197200227, 14.57453133650715, 12.337521703072795, 11.705782978478325, 12.462142439925898, 9.961311744094289, 13.919851337504312, 10.434898480619538, 9.920009132572247, 8.248866951263423, 10.142235762607854, 12.394604972945032, 9.447951181077585, 11.238399174649473, 10.743140368536203, 12.403016111918348, 12.067117388726999, 10.064309139360645, 10.136143246868684, 10.691510080501118, 12.05568127252927, 12.02241177468595, 10.040464350101772, 13.946056024145307, 11.365284928967682, 11.162470712243064, 10.871190181055951, 12.375000219977025, 10.691610873608894, 10.156410453727673, 14.350642564505776, 12.940703045856296, 10.162918376300965, 11.366439287732007, 9.53824762823244, 12.297874979444984, 10.966334753105272, 14.577786753430061, 11.747797051993345, 11.484549440497446, 14.149891421507434, 13.799152651644633, 10.812580568631617, 11.5093008390716, 14.198925336236513, 13.12726389722529, 7.829710588436953, 11.196386782746501, 14.690408102494345, 11.366439287732007, 9.386089704031562, 10.532042689382521, 10.075345697604732, 10.45766637478782, 12.166768719838089, 13.31440487175432, 11.272197056202728, 10.856272770218581, 11.949252098539816, 11.609353444611585, 11.821930834924657, 12.36864093398917, 12.356481875434199, 9.700981328736177, 10.532300661553833, 10.493563789517154, 13.450294414479956, 6.107013646945504, 13.946298696511164, 11.316519695613621, 10.30375681513685, 10.404877035306797, 10.329822923409026, 11.509239245561773, 14.261791480540793, 10.222498873106176, 11.65391233356722, 14.807188072172082, 11.401220933078818, 11.38509823806389, 9.281463276473275, 9.861232684158765, 9.091222056489912, 13.138747462947592, 11.701762145169866, 8.659870867481274, 13.110197202611104, 10.235824839555605, 13.070737435245334, 12.859461048475438, 10.248620864785423, 12.502605422417489, 8.300031922367722, 12.707978238127268, 8.926370241908714, 10.961773063033704, 14.995651985776291, 11.19816925809873, 11.613485225479323, 11.60702796790865, 14.064733456699557, 11.294570915605888, 9.741518236415956, 7.65673456082304, 10.25910398661999, 9.482402589095088, 12.38697102194719, 8.061282669808222, 11.066562765186333, 13.85567345862664, 10.011754467698935, 11.777933662127268, 10.608373675076379, 12.750028968136846, 10.614790474198614, 13.191384962311801, 14.081803321564891, 13.028053519158945, 9.139423579424417, 10.61380677478455, 8.737134975627939, 10.403367524940492, 10.229544076176055, 9.996521121829844, 9.53824762823244, 10.690776071033994, 12.583103464686516, 13.449481831037062, 12.840643954233471, 11.61856996376018, 8.56013733765512, 12.475800796604105, 5.108669160111546, 8.701817491345807, 11.4636439828585, 11.908453846295103, 13.248857993737417, 9.755218792265893, 9.12377946025235, 10.25910398661999, 14.42974037993126, 14.697736323577644, 13.136277557033551, 11.298737303429604, 9.741704310793736, 11.150243771250913, 8.838488228981348, 9.83377598017914, 11.417448724794255, 10.17364674023274, 12.300281071645529, 13.303289240360115, 13.461590418973444, 14.29966838171758, 11.272044149543305, 12.548509950949025, 10.276327200413036, 9.569389177972354, 10.167801441207573, 11.13421676805892, 12.17742695409406, 14.337537403807161, 11.198240866749344, 8.574294611145248, 10.602628540986458, 8.308782965122461, 10.219152364140697, 11.804280028346781, 9.626761448453905, 13.109712374894386, 10.43328883543704, 10.035532101207806, 12.89454756795321, 14.362499369573285, 12.51537186722571, 13.931355917028938, 12.448083093103648, 14.515373260724388, 10.644045546901268, 9.847075630478955, 10.857983070181305, 11.278786807964295, 8.727214367403846, 11.625125756926806, 10.508836252563285, 10.728240528601688, 9.965776648946573, 13.028053519158945, 13.549523541241157, 10.280543445306918, 11.414466069424904, 10.605993612823383, 11.411430150720932, 13.131482894418966, 10.411060266467118, 12.417311431326468, 12.533998291244004, 11.278786807964295, 11.2587430583947, 10.220500823666313, 11.067805796493573, 14.231007600948303, 13.215902511033434, 11.071382159100992, 11.356755484233233, 13.559786487344624, 10.222498873106176, 13.285813081881585, 14.456199859701243, 13.227033085745731, 9.014765891642398, 10.355072056093647, 12.31814468574457, 13.958581673624664, 11.349445448492858, 9.464081407584942, 11.750941812667676, 14.379117814768776, 11.989121376394266, 10.113044381051893, 11.3122935695731, 9.334443071275288, 8.990168791349149, 11.256232340734002, 12.091741750834714, 10.735390540482783, 8.761722021425427, 10.009399613588627, 9.892362705767752, 10.079074882209099, 10.960010754249467, 11.654772048193351, 10.180240467810378, 14.073062047496293, 15.08082606577527, 9.937237973391618, 13.164788625002345, 11.394220699923423, 9.59329752676426, 10.222159611147887, 11.043185181765963, 10.099237420357255, 10.997674640613056, 14.882440283224511, 12.756804049760191, 11.316653604458494, 11.251958412485052, 11.396939875742916, 10.077930210172141, 13.582220949322888, 11.256552055796234, 10.358805609849284, 11.33353138759189, 10.769055155116163, 13.576488458590845, 14.974436749390676, 12.65886849403914, 10.534131666994014, 10.198119282448985, 12.265378471241362, 10.52616741887077, 9.99761204827091, 11.235383989787167, 11.145154355284646, 13.476642479286326, 12.246716596778512, 12.152558344655787, 10.472049606475863, 10.130158225250213, 8.93741186848392, 10.040196498963994, 10.270861060514378, 9.9599090951845, 10.556168544352929, 11.1770158421089, 11.26490259422944, 14.420660029750522, 11.63370585265811, 10.173986683642667, 12.103366073076629, 11.747025025582204, 11.441626604577138, 13.161974862351869, 11.103816616817582, 9.503174442948236, 10.643699407475012, 11.65391233356722, 8.511283262253798, 10.815804423694587, 9.629256343670292, 10.347052912804926, 13.181288002609378, 10.653363888562396, 10.493950036277326, 11.275358315909486, 11.122175031773892, 10.322556196605817, 10.386582693553734, 10.142235762607854, 9.125489801965998, 12.209859901794786, 8.737134975627939, 11.386829015427153, 11.42557568036436, 11.709728955934494, 12.03212657131671, 12.396869950261404, 10.18926693593555, 12.050564788896097, 12.734713420231216, 13.052562104060868, 9.968939969231812, 9.741756094015088, 9.50729840382887, 10.037173235049792, 11.509239245561773, 10.452824955587218, 8.751923402215922, 13.378222106122209, 9.855551276690036, 14.386062238877727, 8.781178557607106, 10.786777583928867, 14.782867087498104, 12.959040525445104, 11.28305501774166, 11.593728488750727, 14.318604002153094, 9.916687952400181, 9.27963099284834, 10.79401348367837, 11.916860282540526, 11.543985955056357, 12.955744986920124, 12.28372177743158, 14.290747599199037, 9.965310477450927, 13.574540867531411, 12.16316708587992, 13.017989446135559, 9.713001121306021, 10.73037757507636, 14.220681647845865, 9.106188192573697, 10.303257784616378, 12.210903039634374, 14.272037872931193, 10.7074830331524, 11.908145620388765, 14.098901389635373, 10.011754467698935, 11.226854583793553, 10.229544076176055, 10.015503117824935, 14.350642564505776, 7.794308163152252, 10.029330307162397, 12.091508977045393, 9.996521121829844, 8.857262525495841, 11.157018795372366, 10.149336844566093, 11.29257004126275, 9.881601328560961, 13.092944494553464, 10.274966043244987, 8.89227388791305, 13.076034116008756, 12.633769915878744, 11.00715964741839, 9.788835816071966, 12.014885356900137, 10.520369893883341, 12.403365532866971, 11.251709415245656, 12.322798769341986, 12.645331235110731, 9.602442277574752, 13.540899289251044, 9.875415361098291, 13.085366344489827, 9.134423114165926, 12.633769915878744, 14.719016833641305, 10.189747700472523, 10.037575741270572, 11.67727837043212, 13.461590418973444, 11.449672935853684, 10.249805006110634, 10.229544076176055, 11.325854196005182, 8.328850849141688, 10.685956386746781, 10.392911784186524, 11.183378980017821, 10.149336844566093, 8.961649423497235, 10.012933353037894, 11.233525971301603, 13.002228112137615, 10.374233969785834, 11.054697574418512, 11.638932494064008, 13.086268507491965, 13.053265910314892, 9.978028149558028, 14.535094657111856, 10.180695935214814, 10.206846232572659, 9.137323203230423, 10.115459428814845, 13.820781838719356, 9.968599755239936, 11.316724114675978, 10.087209480781254, 10.396010205647414, 9.602589933157489, 10.470546048655976, 11.97336439443761, 9.780585017423888, 10.03533786339112, 11.114995696919593, 9.744137914174914, 6.677756377818966, 11.483623656658253, 10.21453762732908, 12.371745010513493, 10.064309139360645, 11.043185181765963, 11.705782978478325, 12.575006360205677, 10.11197609113269, 11.977757387415565, 9.364486951453088, 12.853057337942388, 12.648439177314955, 10.490061594492815, 10.116903566160246, 10.755093379724073, 11.870229633564392, 9.23782256729855, 1.9656193294970734, 8.959570586263268, 10.079074882209099, 13.263256979308878, 11.364549451059517, 12.018482542599756, 14.098228610385647, 9.03831391204885, 10.2426381297701, 13.085366344489827, 11.13690458839055, 11.333352339282825, 12.201602202195588, 10.202655545586182, 11.251304609653104, 12.545512230633264, 7.592435876372562, 12.275204673552523, 10.053021576969556, 13.596770893159643, 11.70606472318768, 10.612869582241999, 11.387620008386236, 12.152558344655787, 11.651269771663735, 12.800425682176225, 11.005387687745767, 9.234719524213958, 10.328057341649853, 11.137225531633973, 10.697779612720566, 7.579978047400161, 9.53824762823244, 11.080738713320258, 10.64882547216375, 10.272142709128318, 10.06858480655437, 10.383163623516495, 12.577959461044244, 8.949990349897504, 10.274966043244987, 10.395685248229071, 9.819960358371915, 9.778805015629857, 13.157123182699522, 9.416883344051413, 12.651078699974548, 11.111165120487655, 12.287094910093671, 8.878505700445473, 12.933150927277254, 10.604817913426174, 9.91646184656615, 10.040464350101772, 10.43042292941304, 9.76205872664859, 12.181600526269264, 11.138202178877052, 11.992212116386597, 10.198119282448985, 10.279435637424555, 14.875498418873846, 11.38521042660004, 10.276327200413036, 12.556240389155661, 12.109609915310372, 11.343833353635361, 13.234440359013476, 10.746515370953873, 11.049427640656447, 13.130000866350471, 10.42884732209977, 9.370362898975756, 12.3750484215373, 14.403463785233996, 11.374443687014079, 12.642796588206053, 10.201989330441663, 8.819554351999884, 13.062732919005882, 9.933357286072166, 9.53824762823244, 12.750014189764713, 11.111230267218431, 11.396813594273496, 14.595025023852301, 11.744386962326914, 8.516766698313674, 14.238578101470281, 10.261993745052152, 10.146705761964128, 11.343838353677071, 11.28709373444535, 11.599067319987896, 10.093792423090505, 11.329305879054388, 12.92430881342743, 12.311328227078135, 12.05777934361258, 10.815804423694587, 5.739472059506895, 11.471701144468668, 10.040196498963994, 12.670903408713727, 11.121523054494261, 12.609991162581807, 10.512092395954525, 10.544025985565256, 12.707978238127268, 8.671103969124758, 13.154305153674883, 10.62357593046481, 13.201588925981284, 11.02097487257133, 9.136073357454094, 12.212287112025749, 12.756804049760191, 10.788959673250517, 10.703066107434367, 12.944382263030363, 10.079033605793754, 13.990145800609113, 12.153373056982034, 12.1455716319645, 8.599925529316621, 11.471701144468668, 14.403463785233996, 8.972742826375267, 11.924493829890068, 10.924901103742101, 12.502588866892708, 9.732135825082239, 14.943856212884654, 14.379117814768776, 10.43042292941304, 8.905934990639523, 14.344867344381143, 9.457164639066193, 10.544025985565256, 12.922015855397419, 10.535425753364777, 10.472077739458925, 12.154315123766807, 10.911839314878577, 14.545217047288403, 11.411541348078842, 10.752105453074634, 14.067556746292482, 11.162470712243064]]\n"
          ],
          "name": "stdout"
        }
      ]
    },
    {
      "cell_type": "code",
      "metadata": {
        "colab": {
          "base_uri": "https://localhost:8080/",
          "height": 17
        },
        "id": "w7_RqZiqEw0l",
        "outputId": "f6e12be8-e8b4-499f-bb50-3a0601793cf9"
      },
      "source": [
        "# # Save the DataFrame to a file on the Colab backend.\n",
        "# with open('df.json', 'w') as f:\n",
        "#   f.write(k)\n",
        "# files.download('df.json')"
      ],
      "execution_count": 45,
      "outputs": [
        {
          "output_type": "display_data",
          "data": {
            "application/javascript": [
              "\n",
              "    async function download(id, filename, size) {\n",
              "      if (!google.colab.kernel.accessAllowed) {\n",
              "        return;\n",
              "      }\n",
              "      const div = document.createElement('div');\n",
              "      const label = document.createElement('label');\n",
              "      label.textContent = `Downloading \"${filename}\": `;\n",
              "      div.appendChild(label);\n",
              "      const progress = document.createElement('progress');\n",
              "      progress.max = size;\n",
              "      div.appendChild(progress);\n",
              "      document.body.appendChild(div);\n",
              "\n",
              "      const buffers = [];\n",
              "      let downloaded = 0;\n",
              "\n",
              "      const channel = await google.colab.kernel.comms.open(id);\n",
              "      // Send a message to notify the kernel that we're ready.\n",
              "      channel.send({})\n",
              "\n",
              "      for await (const message of channel.messages) {\n",
              "        // Send a message to notify the kernel that we're ready.\n",
              "        channel.send({})\n",
              "        if (message.buffers) {\n",
              "          for (const buffer of message.buffers) {\n",
              "            buffers.push(buffer);\n",
              "            downloaded += buffer.byteLength;\n",
              "            progress.value = downloaded;\n",
              "          }\n",
              "        }\n",
              "      }\n",
              "      const blob = new Blob(buffers, {type: 'application/binary'});\n",
              "      const a = document.createElement('a');\n",
              "      a.href = window.URL.createObjectURL(blob);\n",
              "      a.download = filename;\n",
              "      div.appendChild(a);\n",
              "      a.click();\n",
              "      div.remove();\n",
              "    }\n",
              "  "
            ],
            "text/plain": [
              "<IPython.core.display.Javascript object>"
            ]
          },
          "metadata": {
            "tags": []
          }
        },
        {
          "output_type": "display_data",
          "data": {
            "application/javascript": [
              "download(\"download_5b0602f4-aa81-42b5-99e0-bd842a42e096\", \"df.json\", 70340)"
            ],
            "text/plain": [
              "<IPython.core.display.Javascript object>"
            ]
          },
          "metadata": {
            "tags": []
          }
        }
      ]
    },
    {
      "cell_type": "code",
      "metadata": {
        "colab": {
          "base_uri": "https://localhost:8080/"
        },
        "id": "rxKZyycAHeVT",
        "outputId": "9702ee7b-da85-4b15-a717-51d91268754e"
      },
      "source": [
        "# round off predicted values\n",
        "import numpy as np\n",
        "yhat = np.round(yhat,1)\n",
        "yhat[:5]"
      ],
      "execution_count": 46,
      "outputs": [
        {
          "output_type": "execute_result",
          "data": {
            "text/plain": [
              "array([13. ,  8.7, 12.6, 12.7, 11.4])"
            ]
          },
          "metadata": {
            "tags": []
          },
          "execution_count": 46
        }
      ]
    },
    {
      "cell_type": "code",
      "metadata": {
        "colab": {
          "base_uri": "https://localhost:8080/",
          "height": 419
        },
        "id": "jJ8Fd2sFHg3u",
        "outputId": "3d0572f0-5630-4603-9b76-7abdc5757f40"
      },
      "source": [
        "# make df of predicted & real values\n",
        "predicted_vs_real = pd.DataFrame({'Actual': y_test,\n",
        "                                 'Predicted': yhat})\n",
        "\n",
        "predicted_vs_real"
      ],
      "execution_count": 48,
      "outputs": [
        {
          "output_type": "execute_result",
          "data": {
            "text/html": [
              "<div>\n",
              "<style scoped>\n",
              "    .dataframe tbody tr th:only-of-type {\n",
              "        vertical-align: middle;\n",
              "    }\n",
              "\n",
              "    .dataframe tbody tr th {\n",
              "        vertical-align: top;\n",
              "    }\n",
              "\n",
              "    .dataframe thead th {\n",
              "        text-align: right;\n",
              "    }\n",
              "</style>\n",
              "<table border=\"1\" class=\"dataframe\">\n",
              "  <thead>\n",
              "    <tr style=\"text-align: right;\">\n",
              "      <th></th>\n",
              "      <th>Actual</th>\n",
              "      <th>Predicted</th>\n",
              "    </tr>\n",
              "  </thead>\n",
              "  <tbody>\n",
              "    <tr>\n",
              "      <th>0</th>\n",
              "      <td>13.2</td>\n",
              "      <td>13.0</td>\n",
              "    </tr>\n",
              "    <tr>\n",
              "      <th>1</th>\n",
              "      <td>9.3</td>\n",
              "      <td>8.7</td>\n",
              "    </tr>\n",
              "    <tr>\n",
              "      <th>2</th>\n",
              "      <td>13.0</td>\n",
              "      <td>12.6</td>\n",
              "    </tr>\n",
              "    <tr>\n",
              "      <th>3</th>\n",
              "      <td>13.1</td>\n",
              "      <td>12.7</td>\n",
              "    </tr>\n",
              "    <tr>\n",
              "      <th>4</th>\n",
              "      <td>11.4</td>\n",
              "      <td>11.4</td>\n",
              "    </tr>\n",
              "    <tr>\n",
              "      <th>...</th>\n",
              "      <td>...</td>\n",
              "      <td>...</td>\n",
              "    </tr>\n",
              "    <tr>\n",
              "      <th>2758</th>\n",
              "      <td>13.6</td>\n",
              "      <td>14.5</td>\n",
              "    </tr>\n",
              "    <tr>\n",
              "      <th>2759</th>\n",
              "      <td>11.4</td>\n",
              "      <td>11.4</td>\n",
              "    </tr>\n",
              "    <tr>\n",
              "      <th>2760</th>\n",
              "      <td>10.9</td>\n",
              "      <td>10.8</td>\n",
              "    </tr>\n",
              "    <tr>\n",
              "      <th>2761</th>\n",
              "      <td>13.8</td>\n",
              "      <td>14.1</td>\n",
              "    </tr>\n",
              "    <tr>\n",
              "      <th>2762</th>\n",
              "      <td>10.7</td>\n",
              "      <td>11.2</td>\n",
              "    </tr>\n",
              "  </tbody>\n",
              "</table>\n",
              "<p>2763 rows × 2 columns</p>\n",
              "</div>"
            ],
            "text/plain": [
              "      Actual  Predicted\n",
              "0       13.2       13.0\n",
              "1        9.3        8.7\n",
              "2       13.0       12.6\n",
              "3       13.1       12.7\n",
              "4       11.4       11.4\n",
              "...      ...        ...\n",
              "2758    13.6       14.5\n",
              "2759    11.4       11.4\n",
              "2760    10.9       10.8\n",
              "2761    13.8       14.1\n",
              "2762    10.7       11.2\n",
              "\n",
              "[2763 rows x 2 columns]"
            ]
          },
          "metadata": {
            "tags": []
          },
          "execution_count": 48
        }
      ]
    },
    {
      "cell_type": "code",
      "metadata": {
        "colab": {
          "base_uri": "https://localhost:8080/",
          "height": 419
        },
        "id": "Kl8C2BErHugW",
        "outputId": "9a2f4814-ac94-4158-9770-afd413fc6f0c"
      },
      "source": [
        "predicted_vs_real['difference'] = predicted_vs_real['Actual'] - predicted_vs_real['Predicted']\n",
        "predicted_vs_real"
      ],
      "execution_count": 49,
      "outputs": [
        {
          "output_type": "execute_result",
          "data": {
            "text/html": [
              "<div>\n",
              "<style scoped>\n",
              "    .dataframe tbody tr th:only-of-type {\n",
              "        vertical-align: middle;\n",
              "    }\n",
              "\n",
              "    .dataframe tbody tr th {\n",
              "        vertical-align: top;\n",
              "    }\n",
              "\n",
              "    .dataframe thead th {\n",
              "        text-align: right;\n",
              "    }\n",
              "</style>\n",
              "<table border=\"1\" class=\"dataframe\">\n",
              "  <thead>\n",
              "    <tr style=\"text-align: right;\">\n",
              "      <th></th>\n",
              "      <th>Actual</th>\n",
              "      <th>Predicted</th>\n",
              "      <th>difference</th>\n",
              "    </tr>\n",
              "  </thead>\n",
              "  <tbody>\n",
              "    <tr>\n",
              "      <th>0</th>\n",
              "      <td>13.2</td>\n",
              "      <td>13.0</td>\n",
              "      <td>0.2</td>\n",
              "    </tr>\n",
              "    <tr>\n",
              "      <th>1</th>\n",
              "      <td>9.3</td>\n",
              "      <td>8.7</td>\n",
              "      <td>0.6</td>\n",
              "    </tr>\n",
              "    <tr>\n",
              "      <th>2</th>\n",
              "      <td>13.0</td>\n",
              "      <td>12.6</td>\n",
              "      <td>0.4</td>\n",
              "    </tr>\n",
              "    <tr>\n",
              "      <th>3</th>\n",
              "      <td>13.1</td>\n",
              "      <td>12.7</td>\n",
              "      <td>0.4</td>\n",
              "    </tr>\n",
              "    <tr>\n",
              "      <th>4</th>\n",
              "      <td>11.4</td>\n",
              "      <td>11.4</td>\n",
              "      <td>0.0</td>\n",
              "    </tr>\n",
              "    <tr>\n",
              "      <th>...</th>\n",
              "      <td>...</td>\n",
              "      <td>...</td>\n",
              "      <td>...</td>\n",
              "    </tr>\n",
              "    <tr>\n",
              "      <th>2758</th>\n",
              "      <td>13.6</td>\n",
              "      <td>14.5</td>\n",
              "      <td>-0.9</td>\n",
              "    </tr>\n",
              "    <tr>\n",
              "      <th>2759</th>\n",
              "      <td>11.4</td>\n",
              "      <td>11.4</td>\n",
              "      <td>0.0</td>\n",
              "    </tr>\n",
              "    <tr>\n",
              "      <th>2760</th>\n",
              "      <td>10.9</td>\n",
              "      <td>10.8</td>\n",
              "      <td>0.1</td>\n",
              "    </tr>\n",
              "    <tr>\n",
              "      <th>2761</th>\n",
              "      <td>13.8</td>\n",
              "      <td>14.1</td>\n",
              "      <td>-0.3</td>\n",
              "    </tr>\n",
              "    <tr>\n",
              "      <th>2762</th>\n",
              "      <td>10.7</td>\n",
              "      <td>11.2</td>\n",
              "      <td>-0.5</td>\n",
              "    </tr>\n",
              "  </tbody>\n",
              "</table>\n",
              "<p>2763 rows × 3 columns</p>\n",
              "</div>"
            ],
            "text/plain": [
              "      Actual  Predicted  difference\n",
              "0       13.2       13.0         0.2\n",
              "1        9.3        8.7         0.6\n",
              "2       13.0       12.6         0.4\n",
              "3       13.1       12.7         0.4\n",
              "4       11.4       11.4         0.0\n",
              "...      ...        ...         ...\n",
              "2758    13.6       14.5        -0.9\n",
              "2759    11.4       11.4         0.0\n",
              "2760    10.9       10.8         0.1\n",
              "2761    13.8       14.1        -0.3\n",
              "2762    10.7       11.2        -0.5\n",
              "\n",
              "[2763 rows x 3 columns]"
            ]
          },
          "metadata": {
            "tags": []
          },
          "execution_count": 49
        }
      ]
    }
  ]
}